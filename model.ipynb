{
  "nbformat": 4,
  "nbformat_minor": 0,
  "metadata": {
    "accelerator": "GPU",
    "colab": {
      "name": "capstone-text-classification-pretrained embed-2.ipynb",
      "provenance": [],
      "collapsed_sections": []
    },
    "kernelspec": {
      "display_name": "Python 3",
      "name": "python3"
    },
    "language_info": {
      "name": "python"
    },
    "widgets": {
      "application/vnd.jupyter.widget-state+json": {
        "be62605c3c2744d5a17ac1a81d90dcc6": {
          "model_module": "@jupyter-widgets/controls",
          "model_name": "HBoxModel",
          "state": {
            "_dom_classes": [],
            "_model_module": "@jupyter-widgets/controls",
            "_model_module_version": "1.5.0",
            "_model_name": "HBoxModel",
            "_view_count": null,
            "_view_module": "@jupyter-widgets/controls",
            "_view_module_version": "1.5.0",
            "_view_name": "HBoxView",
            "box_style": "",
            "children": [
              "IPY_MODEL_ac0dc2d9f77041cba190082c579d55f7",
              "IPY_MODEL_3f44496f6da543a68b916ab5b213a9e5"
            ],
            "layout": "IPY_MODEL_b39cf52854464d33b0b2562b7bb4f8cb"
          }
        },
        "ac0dc2d9f77041cba190082c579d55f7": {
          "model_module": "@jupyter-widgets/controls",
          "model_name": "FloatProgressModel",
          "state": {
            "_dom_classes": [],
            "_model_module": "@jupyter-widgets/controls",
            "_model_module_version": "1.5.0",
            "_model_name": "FloatProgressModel",
            "_view_count": null,
            "_view_module": "@jupyter-widgets/controls",
            "_view_module_version": "1.5.0",
            "_view_name": "ProgressView",
            "bar_style": "success",
            "description": "Pandas Apply: 100%",
            "description_tooltip": null,
            "layout": "IPY_MODEL_64a9abe7cc3a462688a2f1f1b111dbe0",
            "max": 8902,
            "min": 0,
            "orientation": "horizontal",
            "style": "IPY_MODEL_259fe87f195546cbb3826ea25e2b67f6",
            "value": 8902
          }
        },
        "3f44496f6da543a68b916ab5b213a9e5": {
          "model_module": "@jupyter-widgets/controls",
          "model_name": "HTMLModel",
          "state": {
            "_dom_classes": [],
            "_model_module": "@jupyter-widgets/controls",
            "_model_module_version": "1.5.0",
            "_model_name": "HTMLModel",
            "_view_count": null,
            "_view_module": "@jupyter-widgets/controls",
            "_view_module_version": "1.5.0",
            "_view_name": "HTMLView",
            "description": "",
            "description_tooltip": null,
            "layout": "IPY_MODEL_56d8fe25f6154a819e394bc3a3357fdd",
            "placeholder": "​",
            "style": "IPY_MODEL_0845e064155b495fa48a870b61e43d58",
            "value": " 8902/8902 [00:42&lt;00:00, 208.84it/s]"
          }
        },
        "b39cf52854464d33b0b2562b7bb4f8cb": {
          "model_module": "@jupyter-widgets/base",
          "model_name": "LayoutModel",
          "state": {
            "_model_module": "@jupyter-widgets/base",
            "_model_module_version": "1.2.0",
            "_model_name": "LayoutModel",
            "_view_count": null,
            "_view_module": "@jupyter-widgets/base",
            "_view_module_version": "1.2.0",
            "_view_name": "LayoutView",
            "align_content": null,
            "align_items": null,
            "align_self": null,
            "border": null,
            "bottom": null,
            "display": null,
            "flex": null,
            "flex_flow": null,
            "grid_area": null,
            "grid_auto_columns": null,
            "grid_auto_flow": null,
            "grid_auto_rows": null,
            "grid_column": null,
            "grid_gap": null,
            "grid_row": null,
            "grid_template_areas": null,
            "grid_template_columns": null,
            "grid_template_rows": null,
            "height": null,
            "justify_content": null,
            "justify_items": null,
            "left": null,
            "margin": null,
            "max_height": null,
            "max_width": null,
            "min_height": null,
            "min_width": null,
            "object_fit": null,
            "object_position": null,
            "order": null,
            "overflow": null,
            "overflow_x": null,
            "overflow_y": null,
            "padding": null,
            "right": null,
            "top": null,
            "visibility": null,
            "width": null
          }
        },
        "64a9abe7cc3a462688a2f1f1b111dbe0": {
          "model_module": "@jupyter-widgets/base",
          "model_name": "LayoutModel",
          "state": {
            "_model_module": "@jupyter-widgets/base",
            "_model_module_version": "1.2.0",
            "_model_name": "LayoutModel",
            "_view_count": null,
            "_view_module": "@jupyter-widgets/base",
            "_view_module_version": "1.2.0",
            "_view_name": "LayoutView",
            "align_content": null,
            "align_items": null,
            "align_self": null,
            "border": null,
            "bottom": null,
            "display": null,
            "flex": null,
            "flex_flow": null,
            "grid_area": null,
            "grid_auto_columns": null,
            "grid_auto_flow": null,
            "grid_auto_rows": null,
            "grid_column": null,
            "grid_gap": null,
            "grid_row": null,
            "grid_template_areas": null,
            "grid_template_columns": null,
            "grid_template_rows": null,
            "height": null,
            "justify_content": null,
            "justify_items": null,
            "left": null,
            "margin": null,
            "max_height": null,
            "max_width": null,
            "min_height": null,
            "min_width": null,
            "object_fit": null,
            "object_position": null,
            "order": null,
            "overflow": null,
            "overflow_x": null,
            "overflow_y": null,
            "padding": null,
            "right": null,
            "top": null,
            "visibility": null,
            "width": null
          }
        },
        "259fe87f195546cbb3826ea25e2b67f6": {
          "model_module": "@jupyter-widgets/controls",
          "model_name": "ProgressStyleModel",
          "state": {
            "_model_module": "@jupyter-widgets/controls",
            "_model_module_version": "1.5.0",
            "_model_name": "ProgressStyleModel",
            "_view_count": null,
            "_view_module": "@jupyter-widgets/base",
            "_view_module_version": "1.2.0",
            "_view_name": "StyleView",
            "bar_color": null,
            "description_width": "initial"
          }
        },
        "56d8fe25f6154a819e394bc3a3357fdd": {
          "model_module": "@jupyter-widgets/base",
          "model_name": "LayoutModel",
          "state": {
            "_model_module": "@jupyter-widgets/base",
            "_model_module_version": "1.2.0",
            "_model_name": "LayoutModel",
            "_view_count": null,
            "_view_module": "@jupyter-widgets/base",
            "_view_module_version": "1.2.0",
            "_view_name": "LayoutView",
            "align_content": null,
            "align_items": null,
            "align_self": null,
            "border": null,
            "bottom": null,
            "display": null,
            "flex": null,
            "flex_flow": null,
            "grid_area": null,
            "grid_auto_columns": null,
            "grid_auto_flow": null,
            "grid_auto_rows": null,
            "grid_column": null,
            "grid_gap": null,
            "grid_row": null,
            "grid_template_areas": null,
            "grid_template_columns": null,
            "grid_template_rows": null,
            "height": null,
            "justify_content": null,
            "justify_items": null,
            "left": null,
            "margin": null,
            "max_height": null,
            "max_width": null,
            "min_height": null,
            "min_width": null,
            "object_fit": null,
            "object_position": null,
            "order": null,
            "overflow": null,
            "overflow_x": null,
            "overflow_y": null,
            "padding": null,
            "right": null,
            "top": null,
            "visibility": null,
            "width": null
          }
        },
        "0845e064155b495fa48a870b61e43d58": {
          "model_module": "@jupyter-widgets/controls",
          "model_name": "DescriptionStyleModel",
          "state": {
            "_model_module": "@jupyter-widgets/controls",
            "_model_module_version": "1.5.0",
            "_model_name": "DescriptionStyleModel",
            "_view_count": null,
            "_view_module": "@jupyter-widgets/base",
            "_view_module_version": "1.2.0",
            "_view_name": "StyleView",
            "description_width": ""
          }
        }
      }
    }
  },
  "cells": [
    {
      "cell_type": "markdown",
      "metadata": {
        "id": "2ksdosJH8Lsg"
      },
      "source": [
        "# Try 2"
      ]
    },
    {
      "cell_type": "markdown",
      "metadata": {
        "id": "ktFdK7wd9XBj"
      },
      "source": [
        "## Install Dependencies\n"
      ]
    },
    {
      "cell_type": "code",
      "metadata": {
        "colab": {
          "base_uri": "https://localhost:8080/",
          "height": 1000
        },
        "id": "2VTzK4on9Dwj",
        "outputId": "678b3d56-90f7-4faf-a7b5-a3b894916bf4"
      },
      "source": [
        "!pip install PySastrawi\n",
        "!pip install swifter"
      ],
      "execution_count": null,
      "outputs": [
        {
          "output_type": "stream",
          "text": [
            "Collecting PySastrawi\n",
            "\u001b[?25l  Downloading https://files.pythonhosted.org/packages/61/84/b0a5454a040f81e81e6a95a5d5635f20ad43cc0c288f8b4966b339084962/PySastrawi-1.2.0-py2.py3-none-any.whl (210kB)\n",
            "\r\u001b[K     |█▋                              | 10kB 19.8MB/s eta 0:00:01\r\u001b[K     |███▏                            | 20kB 27.2MB/s eta 0:00:01\r\u001b[K     |████▊                           | 30kB 32.5MB/s eta 0:00:01\r\u001b[K     |██████▎                         | 40kB 31.0MB/s eta 0:00:01\r\u001b[K     |███████▉                        | 51kB 32.1MB/s eta 0:00:01\r\u001b[K     |█████████▍                      | 61kB 34.1MB/s eta 0:00:01\r\u001b[K     |███████████                     | 71kB 29.1MB/s eta 0:00:01\r\u001b[K     |████████████▌                   | 81kB 30.4MB/s eta 0:00:01\r\u001b[K     |██████████████                  | 92kB 31.0MB/s eta 0:00:01\r\u001b[K     |███████████████▋                | 102kB 31.5MB/s eta 0:00:01\r\u001b[K     |█████████████████▏              | 112kB 31.5MB/s eta 0:00:01\r\u001b[K     |██████████████████▊             | 122kB 31.5MB/s eta 0:00:01\r\u001b[K     |████████████████████▎           | 133kB 31.5MB/s eta 0:00:01\r\u001b[K     |█████████████████████▉          | 143kB 31.5MB/s eta 0:00:01\r\u001b[K     |███████████████████████▍        | 153kB 31.5MB/s eta 0:00:01\r\u001b[K     |█████████████████████████       | 163kB 31.5MB/s eta 0:00:01\r\u001b[K     |██████████████████████████▌     | 174kB 31.5MB/s eta 0:00:01\r\u001b[K     |████████████████████████████    | 184kB 31.5MB/s eta 0:00:01\r\u001b[K     |█████████████████████████████▋  | 194kB 31.5MB/s eta 0:00:01\r\u001b[K     |███████████████████████████████▏| 204kB 31.5MB/s eta 0:00:01\r\u001b[K     |████████████████████████████████| 215kB 31.5MB/s \n",
            "\u001b[?25hInstalling collected packages: PySastrawi\n",
            "Successfully installed PySastrawi-1.2.0\n",
            "Collecting swifter\n",
            "\u001b[?25l  Downloading https://files.pythonhosted.org/packages/f4/3b/04bf42b94a22725241b47e0256458cde11f86f97572dd824e011f1ea8b20/swifter-1.0.7.tar.gz (633kB)\n",
            "\u001b[K     |████████████████████████████████| 634kB 27.4MB/s \n",
            "\u001b[?25hRequirement already satisfied: pandas>=1.0.0 in /usr/local/lib/python3.7/dist-packages (from swifter) (1.1.5)\n",
            "Collecting psutil>=5.6.6\n",
            "\u001b[?25l  Downloading https://files.pythonhosted.org/packages/84/da/f7efdcf012b51506938553dbe302aecc22f3f43abd5cffa8320e8e0588d5/psutil-5.8.0-cp37-cp37m-manylinux2010_x86_64.whl (296kB)\n",
            "\u001b[K     |████████████████████████████████| 296kB 42.2MB/s \n",
            "\u001b[?25hRequirement already satisfied: dask[dataframe]>=2.10.0 in /usr/local/lib/python3.7/dist-packages (from swifter) (2.12.0)\n",
            "Requirement already satisfied: tqdm>=4.33.0 in /usr/local/lib/python3.7/dist-packages (from swifter) (4.41.1)\n",
            "Requirement already satisfied: ipywidgets>=7.0.0cloudpickle>=0.2.2 in /usr/local/lib/python3.7/dist-packages (from swifter) (7.6.3)\n",
            "Requirement already satisfied: parso>0.4.0 in /usr/local/lib/python3.7/dist-packages (from swifter) (0.8.2)\n",
            "Requirement already satisfied: bleach>=3.1.1 in /usr/local/lib/python3.7/dist-packages (from swifter) (3.3.0)\n",
            "Collecting modin[ray]>=0.8.1.1\n",
            "\u001b[?25l  Downloading https://files.pythonhosted.org/packages/20/87/118bc738470e51052162f744f3f7e0d9285f6e73be34b49f62c61ae1893d/modin-0.9.1-py3-none-manylinux1_x86_64.whl (579kB)\n",
            "\u001b[K     |████████████████████████████████| 583kB 41.7MB/s \n",
            "\u001b[?25hRequirement already satisfied: pytz>=2017.2 in /usr/local/lib/python3.7/dist-packages (from pandas>=1.0.0->swifter) (2018.9)\n",
            "Requirement already satisfied: numpy>=1.15.4 in /usr/local/lib/python3.7/dist-packages (from pandas>=1.0.0->swifter) (1.19.5)\n",
            "Requirement already satisfied: python-dateutil>=2.7.3 in /usr/local/lib/python3.7/dist-packages (from pandas>=1.0.0->swifter) (2.8.1)\n",
            "Collecting fsspec>=0.6.0; extra == \"dataframe\"\n",
            "\u001b[?25l  Downloading https://files.pythonhosted.org/packages/bc/52/816d1a3a599176057bf29dfacb1f8fadb61d35fbd96cb1bab4aaa7df83c0/fsspec-2021.5.0-py3-none-any.whl (111kB)\n",
            "\u001b[K     |████████████████████████████████| 112kB 57.1MB/s \n",
            "\u001b[?25hCollecting partd>=0.3.10; extra == \"dataframe\"\n",
            "  Downloading https://files.pythonhosted.org/packages/41/94/360258a68b55f47859d72b2d0b2b3cfe0ca4fbbcb81b78812bd00ae86b7c/partd-1.2.0-py3-none-any.whl\n",
            "Requirement already satisfied: toolz>=0.7.3; extra == \"dataframe\" in /usr/local/lib/python3.7/dist-packages (from dask[dataframe]>=2.10.0->swifter) (0.11.1)\n",
            "Requirement already satisfied: traitlets>=4.3.1 in /usr/local/lib/python3.7/dist-packages (from ipywidgets>=7.0.0cloudpickle>=0.2.2->swifter) (5.0.5)\n",
            "Requirement already satisfied: ipykernel>=4.5.1 in /usr/local/lib/python3.7/dist-packages (from ipywidgets>=7.0.0cloudpickle>=0.2.2->swifter) (4.10.1)\n",
            "Requirement already satisfied: ipython>=4.0.0; python_version >= \"3.3\" in /usr/local/lib/python3.7/dist-packages (from ipywidgets>=7.0.0cloudpickle>=0.2.2->swifter) (5.5.0)\n",
            "Requirement already satisfied: jupyterlab-widgets>=1.0.0; python_version >= \"3.6\" in /usr/local/lib/python3.7/dist-packages (from ipywidgets>=7.0.0cloudpickle>=0.2.2->swifter) (1.0.0)\n",
            "Requirement already satisfied: nbformat>=4.2.0 in /usr/local/lib/python3.7/dist-packages (from ipywidgets>=7.0.0cloudpickle>=0.2.2->swifter) (5.1.3)\n",
            "Requirement already satisfied: widgetsnbextension~=3.5.0 in /usr/local/lib/python3.7/dist-packages (from ipywidgets>=7.0.0cloudpickle>=0.2.2->swifter) (3.5.1)\n",
            "Requirement already satisfied: packaging in /usr/local/lib/python3.7/dist-packages (from bleach>=3.1.1->swifter) (20.9)\n",
            "Requirement already satisfied: six>=1.9.0 in /usr/local/lib/python3.7/dist-packages (from bleach>=3.1.1->swifter) (1.15.0)\n",
            "Requirement already satisfied: webencodings in /usr/local/lib/python3.7/dist-packages (from bleach>=3.1.1->swifter) (0.5.1)\n",
            "Collecting ray<1.2.0,>=1.0.0; extra == \"ray\"\n",
            "\u001b[?25l  Downloading https://files.pythonhosted.org/packages/dd/bc/e1ae5b67cd8e0a4ca84f9a59b65b210daf4ed1d9ad69c035f1824aa1256f/ray-1.1.0-cp37-cp37m-manylinux2014_x86_64.whl (48.5MB)\n",
            "\u001b[K     |████████████████████████████████| 48.5MB 62kB/s \n",
            "\u001b[?25hCollecting pyarrow==1.0; extra == \"ray\"\n",
            "\u001b[?25l  Downloading https://files.pythonhosted.org/packages/45/f4/a86a09ae9944ed3c10e2a628dee3e4c37b81f42063ab4f554d6962bc048d/pyarrow-1.0.0-cp37-cp37m-manylinux2014_x86_64.whl (17.2MB)\n",
            "\u001b[K     |████████████████████████████████| 17.2MB 191kB/s \n",
            "\u001b[?25hCollecting locket\n",
            "  Downloading https://files.pythonhosted.org/packages/50/b8/e789e45b9b9c2db75e9d9e6ceb022c8d1d7e49b2c085ce8c05600f90a96b/locket-0.2.1-py2.py3-none-any.whl\n",
            "Requirement already satisfied: ipython-genutils in /usr/local/lib/python3.7/dist-packages (from traitlets>=4.3.1->ipywidgets>=7.0.0cloudpickle>=0.2.2->swifter) (0.2.0)\n",
            "Requirement already satisfied: tornado>=4.0 in /usr/local/lib/python3.7/dist-packages (from ipykernel>=4.5.1->ipywidgets>=7.0.0cloudpickle>=0.2.2->swifter) (5.1.1)\n",
            "Requirement already satisfied: jupyter-client in /usr/local/lib/python3.7/dist-packages (from ipykernel>=4.5.1->ipywidgets>=7.0.0cloudpickle>=0.2.2->swifter) (5.3.5)\n",
            "Requirement already satisfied: pygments in /usr/local/lib/python3.7/dist-packages (from ipython>=4.0.0; python_version >= \"3.3\"->ipywidgets>=7.0.0cloudpickle>=0.2.2->swifter) (2.6.1)\n",
            "Requirement already satisfied: setuptools>=18.5 in /usr/local/lib/python3.7/dist-packages (from ipython>=4.0.0; python_version >= \"3.3\"->ipywidgets>=7.0.0cloudpickle>=0.2.2->swifter) (56.1.0)\n",
            "Requirement already satisfied: decorator in /usr/local/lib/python3.7/dist-packages (from ipython>=4.0.0; python_version >= \"3.3\"->ipywidgets>=7.0.0cloudpickle>=0.2.2->swifter) (4.4.2)\n",
            "Requirement already satisfied: simplegeneric>0.8 in /usr/local/lib/python3.7/dist-packages (from ipython>=4.0.0; python_version >= \"3.3\"->ipywidgets>=7.0.0cloudpickle>=0.2.2->swifter) (0.8.1)\n",
            "Requirement already satisfied: prompt-toolkit<2.0.0,>=1.0.4 in /usr/local/lib/python3.7/dist-packages (from ipython>=4.0.0; python_version >= \"3.3\"->ipywidgets>=7.0.0cloudpickle>=0.2.2->swifter) (1.0.18)\n",
            "Requirement already satisfied: pickleshare in /usr/local/lib/python3.7/dist-packages (from ipython>=4.0.0; python_version >= \"3.3\"->ipywidgets>=7.0.0cloudpickle>=0.2.2->swifter) (0.7.5)\n",
            "Requirement already satisfied: pexpect; sys_platform != \"win32\" in /usr/local/lib/python3.7/dist-packages (from ipython>=4.0.0; python_version >= \"3.3\"->ipywidgets>=7.0.0cloudpickle>=0.2.2->swifter) (4.8.0)\n",
            "Requirement already satisfied: jsonschema!=2.5.0,>=2.4 in /usr/local/lib/python3.7/dist-packages (from nbformat>=4.2.0->ipywidgets>=7.0.0cloudpickle>=0.2.2->swifter) (2.6.0)\n",
            "Requirement already satisfied: jupyter-core in /usr/local/lib/python3.7/dist-packages (from nbformat>=4.2.0->ipywidgets>=7.0.0cloudpickle>=0.2.2->swifter) (4.7.1)\n",
            "Requirement already satisfied: notebook>=4.4.1 in /usr/local/lib/python3.7/dist-packages (from widgetsnbextension~=3.5.0->ipywidgets>=7.0.0cloudpickle>=0.2.2->swifter) (5.3.1)\n",
            "Requirement already satisfied: pyparsing>=2.0.2 in /usr/local/lib/python3.7/dist-packages (from packaging->bleach>=3.1.1->swifter) (2.4.7)\n",
            "Requirement already satisfied: msgpack<2.0.0,>=1.0.0 in /usr/local/lib/python3.7/dist-packages (from ray<1.2.0,>=1.0.0; extra == \"ray\"->modin[ray]>=0.8.1.1->swifter) (1.0.2)\n",
            "Requirement already satisfied: grpcio>=1.28.1 in /usr/local/lib/python3.7/dist-packages (from ray<1.2.0,>=1.0.0; extra == \"ray\"->modin[ray]>=0.8.1.1->swifter) (1.34.1)\n",
            "Requirement already satisfied: filelock in /usr/local/lib/python3.7/dist-packages (from ray<1.2.0,>=1.0.0; extra == \"ray\"->modin[ray]>=0.8.1.1->swifter) (3.0.12)\n",
            "Collecting colorama\n",
            "  Downloading https://files.pythonhosted.org/packages/44/98/5b86278fbbf250d239ae0ecb724f8572af1c91f4a11edf4d36a206189440/colorama-0.4.4-py2.py3-none-any.whl\n",
            "Requirement already satisfied: protobuf>=3.8.0 in /usr/local/lib/python3.7/dist-packages (from ray<1.2.0,>=1.0.0; extra == \"ray\"->modin[ray]>=0.8.1.1->swifter) (3.12.4)\n",
            "Collecting colorful\n",
            "\u001b[?25l  Downloading https://files.pythonhosted.org/packages/b0/8e/e386e248266952d24d73ed734c2f5513f34d9557032618c8910e605dfaf6/colorful-0.5.4-py2.py3-none-any.whl (201kB)\n",
            "\u001b[K     |████████████████████████████████| 204kB 56.0MB/s \n",
            "\u001b[?25hCollecting gpustat\n",
            "\u001b[?25l  Downloading https://files.pythonhosted.org/packages/b4/69/d8c849715171aeabd61af7da080fdc60948b5a396d2422f1f4672e43d008/gpustat-0.6.0.tar.gz (78kB)\n",
            "\u001b[K     |████████████████████████████████| 81kB 11.9MB/s \n",
            "\u001b[?25hCollecting py-spy>=0.2.0\n",
            "\u001b[?25l  Downloading https://files.pythonhosted.org/packages/9d/4d/1a9cbe9a0b543e6733cb38afe26451522a9ef8e4897b59e74cc76838f245/py_spy-0.3.7-py2.py3-none-manylinux1_x86_64.whl (3.1MB)\n",
            "\u001b[K     |████████████████████████████████| 3.1MB 42.1MB/s \n",
            "\u001b[?25hRequirement already satisfied: click>=7.0 in /usr/local/lib/python3.7/dist-packages (from ray<1.2.0,>=1.0.0; extra == \"ray\"->modin[ray]>=0.8.1.1->swifter) (7.1.2)\n",
            "Collecting aioredis\n",
            "\u001b[?25l  Downloading https://files.pythonhosted.org/packages/b0/64/1b1612d0a104f21f80eb4c6e1b6075f2e6aba8e228f46f229cfd3fdac859/aioredis-1.3.1-py3-none-any.whl (65kB)\n",
            "\u001b[K     |████████████████████████████████| 71kB 9.3MB/s \n",
            "\u001b[?25hCollecting aiohttp\n",
            "\u001b[?25l  Downloading https://files.pythonhosted.org/packages/88/c0/5890b4c8b04a79b7360e8fe4490feb0bb3ab179743f199f0e6220cebd568/aiohttp-3.7.4.post0-cp37-cp37m-manylinux2014_x86_64.whl (1.3MB)\n",
            "\u001b[K     |████████████████████████████████| 1.3MB 34.1MB/s \n",
            "\u001b[?25hCollecting redis>=3.5.0\n",
            "\u001b[?25l  Downloading https://files.pythonhosted.org/packages/a7/7c/24fb0511df653cf1a5d938d8f5d19802a88cef255706fdda242ff97e91b7/redis-3.5.3-py2.py3-none-any.whl (72kB)\n",
            "\u001b[K     |████████████████████████████████| 81kB 9.9MB/s \n",
            "\u001b[?25hRequirement already satisfied: pyyaml in /usr/local/lib/python3.7/dist-packages (from ray<1.2.0,>=1.0.0; extra == \"ray\"->modin[ray]>=0.8.1.1->swifter) (3.13)\n",
            "Requirement already satisfied: requests in /usr/local/lib/python3.7/dist-packages (from ray<1.2.0,>=1.0.0; extra == \"ray\"->modin[ray]>=0.8.1.1->swifter) (2.23.0)\n",
            "Requirement already satisfied: prometheus-client>=0.7.1 in /usr/local/lib/python3.7/dist-packages (from ray<1.2.0,>=1.0.0; extra == \"ray\"->modin[ray]>=0.8.1.1->swifter) (0.10.1)\n",
            "Collecting aiohttp-cors\n",
            "  Downloading https://files.pythonhosted.org/packages/13/e7/e436a0c0eb5127d8b491a9b83ecd2391c6ff7dcd5548dfaec2080a2340fd/aiohttp_cors-0.7.0-py3-none-any.whl\n",
            "Collecting opencensus\n",
            "\u001b[?25l  Downloading https://files.pythonhosted.org/packages/18/59/12044123133d000f705383ad98579aeb0dd82d66b33a254a21b54bf0d6bb/opencensus-0.7.13-py2.py3-none-any.whl (127kB)\n",
            "\u001b[K     |████████████████████████████████| 133kB 53.0MB/s \n",
            "\u001b[?25hRequirement already satisfied: pyzmq>=13 in /usr/local/lib/python3.7/dist-packages (from jupyter-client->ipykernel>=4.5.1->ipywidgets>=7.0.0cloudpickle>=0.2.2->swifter) (22.0.3)\n",
            "Requirement already satisfied: wcwidth in /usr/local/lib/python3.7/dist-packages (from prompt-toolkit<2.0.0,>=1.0.4->ipython>=4.0.0; python_version >= \"3.3\"->ipywidgets>=7.0.0cloudpickle>=0.2.2->swifter) (0.2.5)\n",
            "Requirement already satisfied: ptyprocess>=0.5 in /usr/local/lib/python3.7/dist-packages (from pexpect; sys_platform != \"win32\"->ipython>=4.0.0; python_version >= \"3.3\"->ipywidgets>=7.0.0cloudpickle>=0.2.2->swifter) (0.7.0)\n",
            "Requirement already satisfied: jinja2 in /usr/local/lib/python3.7/dist-packages (from notebook>=4.4.1->widgetsnbextension~=3.5.0->ipywidgets>=7.0.0cloudpickle>=0.2.2->swifter) (2.11.3)\n",
            "Requirement already satisfied: nbconvert in /usr/local/lib/python3.7/dist-packages (from notebook>=4.4.1->widgetsnbextension~=3.5.0->ipywidgets>=7.0.0cloudpickle>=0.2.2->swifter) (5.6.1)\n",
            "Requirement already satisfied: Send2Trash in /usr/local/lib/python3.7/dist-packages (from notebook>=4.4.1->widgetsnbextension~=3.5.0->ipywidgets>=7.0.0cloudpickle>=0.2.2->swifter) (1.5.0)\n",
            "Requirement already satisfied: terminado>=0.8.1 in /usr/local/lib/python3.7/dist-packages (from notebook>=4.4.1->widgetsnbextension~=3.5.0->ipywidgets>=7.0.0cloudpickle>=0.2.2->swifter) (0.10.0)\n",
            "Requirement already satisfied: nvidia-ml-py3>=7.352.0 in /usr/local/lib/python3.7/dist-packages (from gpustat->ray<1.2.0,>=1.0.0; extra == \"ray\"->modin[ray]>=0.8.1.1->swifter) (7.352.0)\n",
            "Collecting blessings>=1.6\n",
            "  Downloading https://files.pythonhosted.org/packages/03/74/489f85a78247609c6b4f13733cbf3ba0d864b11aa565617b645d6fdf2a4a/blessings-1.7-py3-none-any.whl\n",
            "Collecting hiredis\n",
            "\u001b[?25l  Downloading https://files.pythonhosted.org/packages/ed/33/290cea35b09c80b4634773ad5572a8030a87b5d39736719f698f521d2a13/hiredis-2.0.0-cp37-cp37m-manylinux2010_x86_64.whl (85kB)\n",
            "\u001b[K     |████████████████████████████████| 92kB 11.4MB/s \n",
            "\u001b[?25hCollecting async-timeout\n",
            "  Downloading https://files.pythonhosted.org/packages/e1/1e/5a4441be21b0726c4464f3f23c8b19628372f606755a9d2e46c187e65ec4/async_timeout-3.0.1-py3-none-any.whl\n",
            "Requirement already satisfied: typing-extensions>=3.6.5 in /usr/local/lib/python3.7/dist-packages (from aiohttp->ray<1.2.0,>=1.0.0; extra == \"ray\"->modin[ray]>=0.8.1.1->swifter) (3.7.4.3)\n",
            "Requirement already satisfied: chardet<5.0,>=2.0 in /usr/local/lib/python3.7/dist-packages (from aiohttp->ray<1.2.0,>=1.0.0; extra == \"ray\"->modin[ray]>=0.8.1.1->swifter) (3.0.4)\n",
            "Collecting multidict<7.0,>=4.5\n",
            "\u001b[?25l  Downloading https://files.pythonhosted.org/packages/7c/a6/4123b8165acbe773d1a8dc8e3f0d1edea16d29f7de018eda769abb56bd30/multidict-5.1.0-cp37-cp37m-manylinux2014_x86_64.whl (142kB)\n",
            "\u001b[K     |████████████████████████████████| 143kB 55.6MB/s \n",
            "\u001b[?25hRequirement already satisfied: attrs>=17.3.0 in /usr/local/lib/python3.7/dist-packages (from aiohttp->ray<1.2.0,>=1.0.0; extra == \"ray\"->modin[ray]>=0.8.1.1->swifter) (21.2.0)\n",
            "Collecting yarl<2.0,>=1.0\n",
            "\u001b[?25l  Downloading https://files.pythonhosted.org/packages/f1/62/046834c5fc998c88ab2ef722f5d42122230a632212c8afa76418324f53ff/yarl-1.6.3-cp37-cp37m-manylinux2014_x86_64.whl (294kB)\n",
            "\u001b[K     |████████████████████████████████| 296kB 56.2MB/s \n",
            "\u001b[?25hRequirement already satisfied: certifi>=2017.4.17 in /usr/local/lib/python3.7/dist-packages (from requests->ray<1.2.0,>=1.0.0; extra == \"ray\"->modin[ray]>=0.8.1.1->swifter) (2020.12.5)\n",
            "Requirement already satisfied: idna<3,>=2.5 in /usr/local/lib/python3.7/dist-packages (from requests->ray<1.2.0,>=1.0.0; extra == \"ray\"->modin[ray]>=0.8.1.1->swifter) (2.10)\n",
            "Requirement already satisfied: urllib3!=1.25.0,!=1.25.1,<1.26,>=1.21.1 in /usr/local/lib/python3.7/dist-packages (from requests->ray<1.2.0,>=1.0.0; extra == \"ray\"->modin[ray]>=0.8.1.1->swifter) (1.24.3)\n",
            "Collecting opencensus-context==0.1.2\n",
            "  Downloading https://files.pythonhosted.org/packages/f1/33/990f1bd9e7ee770fc8d3c154fc24743a96f16a0e49e14e1b7540cc2fdd93/opencensus_context-0.1.2-py2.py3-none-any.whl\n",
            "Requirement already satisfied: google-api-core<2.0.0,>=1.0.0 in /usr/local/lib/python3.7/dist-packages (from opencensus->ray<1.2.0,>=1.0.0; extra == \"ray\"->modin[ray]>=0.8.1.1->swifter) (1.26.3)\n",
            "Requirement already satisfied: MarkupSafe>=0.23 in /usr/local/lib/python3.7/dist-packages (from jinja2->notebook>=4.4.1->widgetsnbextension~=3.5.0->ipywidgets>=7.0.0cloudpickle>=0.2.2->swifter) (2.0.1)\n",
            "Requirement already satisfied: testpath in /usr/local/lib/python3.7/dist-packages (from nbconvert->notebook>=4.4.1->widgetsnbextension~=3.5.0->ipywidgets>=7.0.0cloudpickle>=0.2.2->swifter) (0.5.0)\n",
            "Requirement already satisfied: mistune<2,>=0.8.1 in /usr/local/lib/python3.7/dist-packages (from nbconvert->notebook>=4.4.1->widgetsnbextension~=3.5.0->ipywidgets>=7.0.0cloudpickle>=0.2.2->swifter) (0.8.4)\n",
            "Requirement already satisfied: entrypoints>=0.2.2 in /usr/local/lib/python3.7/dist-packages (from nbconvert->notebook>=4.4.1->widgetsnbextension~=3.5.0->ipywidgets>=7.0.0cloudpickle>=0.2.2->swifter) (0.3)\n",
            "Requirement already satisfied: defusedxml in /usr/local/lib/python3.7/dist-packages (from nbconvert->notebook>=4.4.1->widgetsnbextension~=3.5.0->ipywidgets>=7.0.0cloudpickle>=0.2.2->swifter) (0.7.1)\n",
            "Requirement already satisfied: pandocfilters>=1.4.1 in /usr/local/lib/python3.7/dist-packages (from nbconvert->notebook>=4.4.1->widgetsnbextension~=3.5.0->ipywidgets>=7.0.0cloudpickle>=0.2.2->swifter) (1.4.3)\n",
            "Requirement already satisfied: google-auth<2.0dev,>=1.21.1 in /usr/local/lib/python3.7/dist-packages (from google-api-core<2.0.0,>=1.0.0->opencensus->ray<1.2.0,>=1.0.0; extra == \"ray\"->modin[ray]>=0.8.1.1->swifter) (1.30.0)\n",
            "Requirement already satisfied: googleapis-common-protos<2.0dev,>=1.6.0 in /usr/local/lib/python3.7/dist-packages (from google-api-core<2.0.0,>=1.0.0->opencensus->ray<1.2.0,>=1.0.0; extra == \"ray\"->modin[ray]>=0.8.1.1->swifter) (1.53.0)\n",
            "Requirement already satisfied: rsa<5,>=3.1.4; python_version >= \"3.6\" in /usr/local/lib/python3.7/dist-packages (from google-auth<2.0dev,>=1.21.1->google-api-core<2.0.0,>=1.0.0->opencensus->ray<1.2.0,>=1.0.0; extra == \"ray\"->modin[ray]>=0.8.1.1->swifter) (4.7.2)\n",
            "Requirement already satisfied: pyasn1-modules>=0.2.1 in /usr/local/lib/python3.7/dist-packages (from google-auth<2.0dev,>=1.21.1->google-api-core<2.0.0,>=1.0.0->opencensus->ray<1.2.0,>=1.0.0; extra == \"ray\"->modin[ray]>=0.8.1.1->swifter) (0.2.8)\n",
            "Requirement already satisfied: cachetools<5.0,>=2.0.0 in /usr/local/lib/python3.7/dist-packages (from google-auth<2.0dev,>=1.21.1->google-api-core<2.0.0,>=1.0.0->opencensus->ray<1.2.0,>=1.0.0; extra == \"ray\"->modin[ray]>=0.8.1.1->swifter) (4.2.2)\n",
            "Requirement already satisfied: pyasn1>=0.1.3 in /usr/local/lib/python3.7/dist-packages (from rsa<5,>=3.1.4; python_version >= \"3.6\"->google-auth<2.0dev,>=1.21.1->google-api-core<2.0.0,>=1.0.0->opencensus->ray<1.2.0,>=1.0.0; extra == \"ray\"->modin[ray]>=0.8.1.1->swifter) (0.4.8)\n",
            "Building wheels for collected packages: swifter, gpustat\n",
            "  Building wheel for swifter (setup.py) ... \u001b[?25l\u001b[?25hdone\n",
            "  Created wheel for swifter: filename=swifter-1.0.7-cp37-none-any.whl size=13980 sha256=edfa139ab5c85e34381b467dcc2c7cd262137c80f8397ddbeee2360ddda0f48f\n",
            "  Stored in directory: /root/.cache/pip/wheels/99/58/39/5b59c5f4d66ce67bf55f0178e0940c964e89e9f60d70376a37\n",
            "  Building wheel for gpustat (setup.py) ... \u001b[?25l\u001b[?25hdone\n",
            "  Created wheel for gpustat: filename=gpustat-0.6.0-cp37-none-any.whl size=12621 sha256=68aedd58ac9e472cf75917031d0e72da66e97fdc6acd33dd42bab07e93bc2613\n",
            "  Stored in directory: /root/.cache/pip/wheels/48/b4/d5/fb5b7f1d040f2ff20687e3bad6867d63155dbde5a7c10f4293\n",
            "Successfully built swifter gpustat\n",
            "\u001b[31mERROR: modin 0.9.1 has requirement pandas==1.2.3, but you'll have pandas 1.1.5 which is incompatible.\u001b[0m\n",
            "Installing collected packages: psutil, colorama, colorful, blessings, gpustat, py-spy, hiredis, async-timeout, aioredis, multidict, yarl, aiohttp, redis, aiohttp-cors, opencensus-context, opencensus, ray, pyarrow, modin, swifter, fsspec, locket, partd\n",
            "  Found existing installation: psutil 5.4.8\n",
            "    Uninstalling psutil-5.4.8:\n",
            "      Successfully uninstalled psutil-5.4.8\n",
            "  Found existing installation: pyarrow 3.0.0\n",
            "    Uninstalling pyarrow-3.0.0:\n",
            "      Successfully uninstalled pyarrow-3.0.0\n",
            "Successfully installed aiohttp-3.7.4.post0 aiohttp-cors-0.7.0 aioredis-1.3.1 async-timeout-3.0.1 blessings-1.7 colorama-0.4.4 colorful-0.5.4 fsspec-2021.5.0 gpustat-0.6.0 hiredis-2.0.0 locket-0.2.1 modin-0.9.1 multidict-5.1.0 opencensus-0.7.13 opencensus-context-0.1.2 partd-1.2.0 psutil-5.8.0 py-spy-0.3.7 pyarrow-1.0.0 ray-1.1.0 redis-3.5.3 swifter-1.0.7 yarl-1.6.3\n"
          ],
          "name": "stdout"
        },
        {
          "output_type": "display_data",
          "data": {
            "application/vnd.colab-display-data+json": {
              "pip_warning": {
                "packages": [
                  "psutil"
                ]
              }
            }
          },
          "metadata": {
            "tags": []
          }
        }
      ]
    },
    {
      "cell_type": "code",
      "metadata": {
        "colab": {
          "base_uri": "https://localhost:8080/"
        },
        "id": "HsGCCN1U8OM9",
        "outputId": "55c0e876-63d9-48fc-d85b-436d571f77ea"
      },
      "source": [
        "import csv\n",
        "import tensorflow as tf\n",
        "import tensorflow_hub as hub\n",
        "from tensorflow import keras\n",
        "from tensorflow.keras import layers\n",
        "import numpy as np\n",
        "import pandas as pd\n",
        "import re\n",
        "import os\n",
        "import string\n",
        "import nltk\n",
        "from nltk.corpus import stopwords\n",
        "from Sastrawi.Stemmer.StemmerFactory import StemmerFactory\n",
        "import swifter\n",
        "nltk.download('punkt')\n",
        "nltk.download('stopwords')"
      ],
      "execution_count": null,
      "outputs": [
        {
          "output_type": "stream",
          "text": [
            "[nltk_data] Downloading package punkt to /root/nltk_data...\n",
            "[nltk_data]   Unzipping tokenizers/punkt.zip.\n",
            "[nltk_data] Downloading package stopwords to /root/nltk_data...\n",
            "[nltk_data]   Unzipping corpora/stopwords.zip.\n"
          ],
          "name": "stdout"
        },
        {
          "output_type": "execute_result",
          "data": {
            "text/plain": [
              "True"
            ]
          },
          "metadata": {
            "tags": []
          },
          "execution_count": 2
        }
      ]
    },
    {
      "cell_type": "code",
      "metadata": {
        "id": "pONZvNFsIYBz"
      },
      "source": [
        "from nltk.tokenize import word_tokenize "
      ],
      "execution_count": null,
      "outputs": []
    },
    {
      "cell_type": "code",
      "metadata": {
        "colab": {
          "base_uri": "https://localhost:8080/"
        },
        "id": "KDt8NcFVJhrn",
        "outputId": "ecb94eb2-450b-42c0-eb22-f9e2605041e5"
      },
      "source": [
        "from google.colab import drive\n",
        "drive.mount('/content/drive')"
      ],
      "execution_count": null,
      "outputs": [
        {
          "output_type": "stream",
          "text": [
            "Mounted at /content/drive\n"
          ],
          "name": "stdout"
        }
      ]
    },
    {
      "cell_type": "markdown",
      "metadata": {
        "id": "Sw_tW_VP_qYS"
      },
      "source": [
        "## Text Pre-Processing"
      ]
    },
    {
      "cell_type": "code",
      "metadata": {
        "id": "_MdWSYeI9Mpq"
      },
      "source": [
        "df_dataset = pd.read_csv('/content/drive/MyDrive/data/train_indo.csv')"
      ],
      "execution_count": null,
      "outputs": []
    },
    {
      "cell_type": "code",
      "metadata": {
        "colab": {
          "base_uri": "https://localhost:8080/",
          "height": 206
        },
        "id": "qwikhbiI_6ax",
        "outputId": "023cc441-a537-41b7-b75b-7534699649ae"
      },
      "source": [
        "df_dataset.head(5)"
      ],
      "execution_count": null,
      "outputs": [
        {
          "output_type": "execute_result",
          "data": {
            "text/html": [
              "<div>\n",
              "<style scoped>\n",
              "    .dataframe tbody tr th:only-of-type {\n",
              "        vertical-align: middle;\n",
              "    }\n",
              "\n",
              "    .dataframe tbody tr th {\n",
              "        vertical-align: top;\n",
              "    }\n",
              "\n",
              "    .dataframe thead th {\n",
              "        text-align: right;\n",
              "    }\n",
              "</style>\n",
              "<table border=\"1\" class=\"dataframe\">\n",
              "  <thead>\n",
              "    <tr style=\"text-align: right;\">\n",
              "      <th></th>\n",
              "      <th>deskripsi</th>\n",
              "      <th>komentar</th>\n",
              "      <th>menatap</th>\n",
              "      <th>memegang</th>\n",
              "    </tr>\n",
              "  </thead>\n",
              "  <tbody>\n",
              "    <tr>\n",
              "      <th>0</th>\n",
              "      <td>Sedang berjalan di sepanjang jalan yang ramai,...</td>\n",
              "      <td>0</td>\n",
              "      <td>0</td>\n",
              "      <td>1</td>\n",
              "    </tr>\n",
              "    <tr>\n",
              "      <th>1</th>\n",
              "      <td>Kejadian ini terjadi pada malam hari, saya ber...</td>\n",
              "      <td>0</td>\n",
              "      <td>1</td>\n",
              "      <td>0</td>\n",
              "    </tr>\n",
              "    <tr>\n",
              "      <th>2</th>\n",
              "      <td>SAYA MENUNGGU BUS. SEORANG PRIA DATANG DENGAN ...</td>\n",
              "      <td>1</td>\n",
              "      <td>0</td>\n",
              "      <td>0</td>\n",
              "    </tr>\n",
              "    <tr>\n",
              "      <th>3</th>\n",
              "      <td>Insiden terjadi di dalam kereta</td>\n",
              "      <td>0</td>\n",
              "      <td>0</td>\n",
              "      <td>0</td>\n",
              "    </tr>\n",
              "    <tr>\n",
              "      <th>4</th>\n",
              "      <td>Saya menyaksikan sebuah insiden ketika sebuah ...</td>\n",
              "      <td>0</td>\n",
              "      <td>0</td>\n",
              "      <td>0</td>\n",
              "    </tr>\n",
              "  </tbody>\n",
              "</table>\n",
              "</div>"
            ],
            "text/plain": [
              "                                           deskripsi  ...  memegang\n",
              "0  Sedang berjalan di sepanjang jalan yang ramai,...  ...         1\n",
              "1  Kejadian ini terjadi pada malam hari, saya ber...  ...         0\n",
              "2  SAYA MENUNGGU BUS. SEORANG PRIA DATANG DENGAN ...  ...         0\n",
              "3                    Insiden terjadi di dalam kereta  ...         0\n",
              "4  Saya menyaksikan sebuah insiden ketika sebuah ...  ...         0\n",
              "\n",
              "[5 rows x 4 columns]"
            ]
          },
          "metadata": {
            "tags": []
          },
          "execution_count": 6
        }
      ]
    },
    {
      "cell_type": "code",
      "metadata": {
        "id": "0ftSSpM5DOz0"
      },
      "source": [
        "# remove special char\n",
        "def remove_special_char(text):\n",
        "    # remove tab, new line, ans back slice\n",
        "    text = text.replace('\\\\t',\" \").replace('\\\\n',\" \").replace('\\\\u',\" \").replace('\\\\',\"\")\n",
        "    # remove non ASCII (emoticon, chinese word, .etc)\n",
        "    text = text.encode('ascii', 'replace').decode('ascii')\n",
        "    # remove mention, link, hashtag\n",
        "    text = ' '.join(re.sub(\"([@#][A-Za-z0-9]+)|(\\w+:\\/\\/\\S+)\",\" \", text).split())\n",
        "    # remove incomplete URL\n",
        "    return text.replace(\"http://\", \" \").replace(\"https://\", \" \")\n",
        "\n",
        "# remove number\n",
        "def remove_number(text):\n",
        "    return  re.sub(r\"\\d+\", \"\", text)\n",
        "\n",
        "# remove punctuation\n",
        "def remove_punctuation(text):\n",
        "    return text.translate(str.maketrans(\"\",\"\",string.punctuation))\n",
        "\n",
        "# remove whitespace leading & trailing\n",
        "def remove_whitespace_LT(text):\n",
        "    return text.strip()\n",
        "\n",
        "# remove multiple whitespace into single whitespace\n",
        "def remove_whitespace_multiple(text):\n",
        "    return re.sub('\\s+',' ',text)\n",
        "\n",
        "# remove single char\n",
        "def remove_single_char(text):\n",
        "    return re.sub(r\"\\b[a-zA-Z]\\b\", \"\", text)\n",
        "\n",
        "# NLTK word rokenize \n",
        "def word_tokenize_wrapper(text):\n",
        "    return word_tokenize(text)\n"
      ],
      "execution_count": null,
      "outputs": []
    },
    {
      "cell_type": "code",
      "metadata": {
        "id": "2fCxpdeDATYD"
      },
      "source": [
        "df_dataset['deskripsi'] = df_dataset['deskripsi'].str.lower()\n",
        "df_dataset['deskripsi'] = df_dataset['deskripsi'].apply(remove_special_char)\n",
        "df_dataset['deskripsi'] = df_dataset['deskripsi'].apply(remove_number)\n",
        "df_dataset['deskripsi'] = df_dataset['deskripsi'].apply(remove_punctuation)\n",
        "df_dataset['deskripsi'] = df_dataset['deskripsi'].apply(remove_whitespace_LT)\n",
        "df_dataset['deskripsi'] = df_dataset['deskripsi'].apply(remove_whitespace_multiple)\n",
        "df_dataset['deskripsi'] = df_dataset['deskripsi'].apply(remove_single_char)\n",
        "df_dataset['deskripsi'] = df_dataset['deskripsi'].apply(word_tokenize_wrapper)"
      ],
      "execution_count": null,
      "outputs": []
    },
    {
      "cell_type": "code",
      "metadata": {
        "id": "FuKQl-B-ETi-"
      },
      "source": [
        "# stopwords_removal\n",
        "list_stopwords = stopwords.words('indonesian')\n",
        "txt_stopword = pd.read_csv(\"/content/drive/MyDrive/data/stopwords-id.txt\", names= [\"stopwords\"], header = None)\n",
        "list_stopwords.extend(txt_stopword[\"stopwords\"][0].split(' '))\n",
        "list_stopwords = set(list_stopwords)\n",
        "\n",
        "def stopwords_removal(words):\n",
        "    return [word for word in words if word not in list_stopwords]\n",
        "\n",
        "df_dataset['deskripsi'] = df_dataset['deskripsi'].apply(stopwords_removal) "
      ],
      "execution_count": null,
      "outputs": []
    },
    {
      "cell_type": "code",
      "metadata": {
        "id": "IWgliHbAImnQ"
      },
      "source": [
        "# Normalizing\n",
        "normalizad_word = pd.read_csv(\"/content/drive/MyDrive/data/normalisasi.csv\")\n",
        "\n",
        "normalizad_word_dict = {}\n",
        "\n",
        "for index, row in normalizad_word.iterrows():\n",
        "    if row[0] not in normalizad_word_dict:\n",
        "        normalizad_word_dict[row[0]] = row[1] \n",
        "\n",
        "def normalized_term(document):\n",
        "    return [normalizad_word_dict[term] if term in normalizad_word_dict else term for term in document]\n",
        "\n",
        "df_dataset['deskripsi'] = df_dataset['deskripsi'].apply(normalized_term)\n"
      ],
      "execution_count": null,
      "outputs": []
    },
    {
      "cell_type": "code",
      "metadata": {
        "colab": {
          "base_uri": "https://localhost:8080/",
          "height": 68,
          "referenced_widgets": [
            "be62605c3c2744d5a17ac1a81d90dcc6",
            "ac0dc2d9f77041cba190082c579d55f7",
            "3f44496f6da543a68b916ab5b213a9e5",
            "b39cf52854464d33b0b2562b7bb4f8cb",
            "64a9abe7cc3a462688a2f1f1b111dbe0",
            "259fe87f195546cbb3826ea25e2b67f6",
            "56d8fe25f6154a819e394bc3a3357fdd",
            "0845e064155b495fa48a870b61e43d58"
          ]
        },
        "id": "Ef998U2qKkcU",
        "outputId": "554453d4-1776-4b46-b030-6a1743800953"
      },
      "source": [
        "# Stemming\n",
        "# Create stemmer\n",
        "factory = StemmerFactory()\n",
        "stemmer = factory.create_stemmer()\n",
        "\n",
        "# Stemmed\n",
        "def stemmed_wrapper(term):\n",
        "    return stemmer.stem(term)\n",
        "\n",
        "term_dict = {}\n",
        "\n",
        "for document in df_dataset['deskripsi']:\n",
        "    for term in document:\n",
        "        if term not in term_dict:\n",
        "            term_dict[term] = ' '\n",
        "\n",
        "for term in term_dict:\n",
        "    term_dict[term] = stemmed_wrapper(term)\n",
        "    \n",
        "# Apply stemmed term to dataframe\n",
        "def get_stemmed_term(document):\n",
        "    return [term_dict[term] for term in document]\n",
        "\n",
        "df_dataset['deskripsi'] = df_dataset['deskripsi'].swifter.apply(get_stemmed_term)"
      ],
      "execution_count": null,
      "outputs": [
        {
          "output_type": "display_data",
          "data": {
            "application/vnd.jupyter.widget-view+json": {
              "model_id": "be62605c3c2744d5a17ac1a81d90dcc6",
              "version_major": 2,
              "version_minor": 0
            },
            "text/plain": [
              "HBox(children=(FloatProgress(value=0.0, description='Pandas Apply', max=8902.0, style=ProgressStyle(descriptio…"
            ]
          },
          "metadata": {
            "tags": []
          }
        },
        {
          "output_type": "stream",
          "text": [
            "\n"
          ],
          "name": "stdout"
        }
      ]
    },
    {
      "cell_type": "code",
      "metadata": {
        "id": "YwS6U51UP6lN"
      },
      "source": [
        "# Detokenize\n",
        "def untokenize(words):\n",
        "    text = ' '.join(words)\n",
        "    text = text.replace(\"`` \", '\"').replace(\" ''\", '\"').replace('. . .',  '...')\n",
        "    text = text.replace(\" ( \", \" (\").replace(\" ) \", \") \")\n",
        "    text = re.sub(r' ([.,:;?!%]+)([ \\'\"`])', r\"\\1\\2\", text)\n",
        "    text = re.sub(r' ([.,:;?!%]+)$', r\"\\1\", text)\n",
        "    return text.strip()\n",
        "\n",
        "df_dataset['deskripsi'] = df_dataset['deskripsi'].apply(untokenize)"
      ],
      "execution_count": null,
      "outputs": []
    },
    {
      "cell_type": "markdown",
      "metadata": {
        "id": "WlZpgnz-LLkB"
      },
      "source": [
        "## Create Dataset and Pipeline for Model"
      ]
    },
    {
      "cell_type": "code",
      "metadata": {
        "colab": {
          "base_uri": "https://localhost:8080/",
          "height": 423
        },
        "id": "KsgMRDAtiMMe",
        "outputId": "af85499e-47a9-442e-e01e-750ff4b8240f"
      },
      "source": [
        "df_dataset"
      ],
      "execution_count": null,
      "outputs": [
        {
          "output_type": "execute_result",
          "data": {
            "text/html": [
              "<div>\n",
              "<style scoped>\n",
              "    .dataframe tbody tr th:only-of-type {\n",
              "        vertical-align: middle;\n",
              "    }\n",
              "\n",
              "    .dataframe tbody tr th {\n",
              "        vertical-align: top;\n",
              "    }\n",
              "\n",
              "    .dataframe thead th {\n",
              "        text-align: right;\n",
              "    }\n",
              "</style>\n",
              "<table border=\"1\" class=\"dataframe\">\n",
              "  <thead>\n",
              "    <tr style=\"text-align: right;\">\n",
              "      <th></th>\n",
              "      <th>deskripsi</th>\n",
              "      <th>komentar</th>\n",
              "      <th>menatap</th>\n",
              "      <th>memegang</th>\n",
              "    </tr>\n",
              "  </thead>\n",
              "  <tbody>\n",
              "    <tr>\n",
              "      <th>0</th>\n",
              "      <td>jalan jalan ramai pegang tangan lelaki tua mer...</td>\n",
              "      <td>0</td>\n",
              "      <td>0</td>\n",
              "      <td>1</td>\n",
              "    </tr>\n",
              "    <tr>\n",
              "      <th>1</th>\n",
              "      <td>jadi malam metro orang tatap</td>\n",
              "      <td>0</td>\n",
              "      <td>1</td>\n",
              "      <td>0</td>\n",
              "    </tr>\n",
              "    <tr>\n",
              "      <th>2</th>\n",
              "      <td>tunggu bus pria sepeda tawar gadis muda liftvto</td>\n",
              "      <td>1</td>\n",
              "      <td>0</td>\n",
              "      <td>0</td>\n",
              "    </tr>\n",
              "    <tr>\n",
              "      <th>3</th>\n",
              "      <td>insiden kereta</td>\n",
              "      <td>0</td>\n",
              "      <td>0</td>\n",
              "      <td>0</td>\n",
              "    </tr>\n",
              "    <tr>\n",
              "      <th>4</th>\n",
              "      <td>saksi insiden rantai renggut brutal wanita tua...</td>\n",
              "      <td>0</td>\n",
              "      <td>0</td>\n",
              "      <td>0</td>\n",
              "    </tr>\n",
              "    <tr>\n",
              "      <th>...</th>\n",
              "      <td>...</td>\n",
              "      <td>...</td>\n",
              "      <td>...</td>\n",
              "      <td>...</td>\n",
              "    </tr>\n",
              "    <tr>\n",
              "      <th>8897</th>\n",
              "      <td>komentar tatap senonoh</td>\n",
              "      <td>1</td>\n",
              "      <td>0</td>\n",
              "      <td>0</td>\n",
              "    </tr>\n",
              "    <tr>\n",
              "      <th>8898</th>\n",
              "      <td>pergi teman metro pagi kelompok anak lakilaki ...</td>\n",
              "      <td>1</td>\n",
              "      <td>0</td>\n",
              "      <td>1</td>\n",
              "    </tr>\n",
              "    <tr>\n",
              "      <th>8899</th>\n",
              "      <td>coba tangkap jalan stasiun kereta api stasiun ...</td>\n",
              "      <td>0</td>\n",
              "      <td>0</td>\n",
              "      <td>1</td>\n",
              "    </tr>\n",
              "    <tr>\n",
              "      <th>8900</th>\n",
              "      <td>orang jahat sentuh pribadi ranchibhagalpur exp...</td>\n",
              "      <td>0</td>\n",
              "      <td>0</td>\n",
              "      <td>1</td>\n",
              "    </tr>\n",
              "    <tr>\n",
              "      <th>8901</th>\n",
              "      <td>usia jenis leceh catcalls pasar boleh</td>\n",
              "      <td>0</td>\n",
              "      <td>0</td>\n",
              "      <td>0</td>\n",
              "    </tr>\n",
              "  </tbody>\n",
              "</table>\n",
              "<p>8902 rows × 4 columns</p>\n",
              "</div>"
            ],
            "text/plain": [
              "                                              deskripsi  ...  memegang\n",
              "0     jalan jalan ramai pegang tangan lelaki tua mer...  ...         1\n",
              "1                          jadi malam metro orang tatap  ...         0\n",
              "2       tunggu bus pria sepeda tawar gadis muda liftvto  ...         0\n",
              "3                                        insiden kereta  ...         0\n",
              "4     saksi insiden rantai renggut brutal wanita tua...  ...         0\n",
              "...                                                 ...  ...       ...\n",
              "8897                             komentar tatap senonoh  ...         0\n",
              "8898  pergi teman metro pagi kelompok anak lakilaki ...  ...         1\n",
              "8899  coba tangkap jalan stasiun kereta api stasiun ...  ...         1\n",
              "8900  orang jahat sentuh pribadi ranchibhagalpur exp...  ...         1\n",
              "8901              usia jenis leceh catcalls pasar boleh  ...         0\n",
              "\n",
              "[8902 rows x 4 columns]"
            ]
          },
          "metadata": {
            "tags": []
          },
          "execution_count": 13
        }
      ]
    },
    {
      "cell_type": "code",
      "metadata": {
        "colab": {
          "base_uri": "https://localhost:8080/"
        },
        "id": "Vb5kpcVAiPB9",
        "outputId": "16ab027f-4e9c-461a-b7a8-6d54e7153259"
      },
      "source": [
        "from sklearn.model_selection import train_test_split\n",
        "train, test = train_test_split(df_dataset, test_size=0.2)\n",
        "train, val = train_test_split(train, test_size=0.2)\n",
        "print(len(train), 'train examples')\n",
        "print(len(val), 'validation examples')\n",
        "print(len(test), 'test examples')"
      ],
      "execution_count": null,
      "outputs": [
        {
          "output_type": "stream",
          "text": [
            "5696 train examples\n",
            "1425 validation examples\n",
            "1781 test examples\n"
          ],
          "name": "stdout"
        }
      ]
    },
    {
      "cell_type": "code",
      "metadata": {
        "id": "uYJMI_f-MIjg"
      },
      "source": [
        "train_deskripsi = train['deskripsi']\n",
        "train_label_komentar = train['komentar']\n",
        "train_label_menatap = train['menatap']\n",
        "train_label_memegang = train['memegang']\n",
        "\n",
        "val_deskripsi = val['deskripsi']\n",
        "val_label_komentar = val['komentar']\n",
        "val_label_menatap = val['menatap']\n",
        "val_label_memegang = val['memegang']\n",
        "\n",
        "test_deskripsi = test['deskripsi']\n",
        "test_label_komentar = test['komentar']\n",
        "test_label_menatap = test['menatap']\n",
        "test_label_memegang = test['memegang']"
      ],
      "execution_count": null,
      "outputs": []
    },
    {
      "cell_type": "code",
      "metadata": {
        "id": "c7AVdLJOhN4s"
      },
      "source": [
        "def df_to_datasetBatch(dataframe, dataframe_label, batch_size, prefetch, shuffle):\n",
        "  dataframe = dataframe.values\n",
        "  labels = dataframe_label.values.astype(dtype=np.float32)\n",
        "  ds = tf.data.Dataset.from_tensor_slices((dataframe, labels))\n",
        "  if shuffle:\n",
        "    ds = ds.shuffle(buffer_size=len(dataframe))\n",
        "  ds = ds.batch(batch_size)\n",
        "  ds = ds.prefetch(prefetch)\n",
        "  return ds"
      ],
      "execution_count": null,
      "outputs": []
    },
    {
      "cell_type": "code",
      "metadata": {
        "id": "9UQVxKvjWvv8"
      },
      "source": [
        "batch_size = 20\n",
        "prefetch = 1\n",
        "shuffle = True\n",
        "\n",
        "#Komentar\n",
        "train_komentar_batches = df_to_datasetBatch(train_deskripsi, train_label_komentar, batch_size=batch_size, prefetch=prefetch, shuffle=shuffle)\n",
        "val_komentar_batches = df_to_datasetBatch(val_deskripsi, val_label_komentar, batch_size=batch_size, prefetch=prefetch, shuffle=shuffle)\n",
        "test_komentar_batches = df_to_datasetBatch(test_deskripsi, test_label_komentar, batch_size=batch_size, prefetch=prefetch, shuffle=shuffle)\n",
        "\n",
        "#Menatap\n",
        "train_menatap_batches = df_to_datasetBatch(train_deskripsi, train_label_menatap, batch_size=batch_size, prefetch=prefetch, shuffle=shuffle)\n",
        "val_menatap_batches = df_to_datasetBatch(val_deskripsi, val_label_menatap, batch_size=batch_size, prefetch=prefetch, shuffle=shuffle)\n",
        "test_menatap_batches = df_to_datasetBatch(test_deskripsi, test_label_menatap, batch_size=batch_size, prefetch=prefetch, shuffle=shuffle)\n",
        "\n",
        "#Memegang\n",
        "train_memegang_batches = df_to_datasetBatch(train_deskripsi, train_label_memegang, batch_size=batch_size, prefetch=prefetch, shuffle=shuffle)\n",
        "val_memegang_batches = df_to_datasetBatch(val_deskripsi, val_label_memegang, batch_size=batch_size, prefetch=prefetch, shuffle=shuffle)\n",
        "test_memegang_batches = df_to_datasetBatch(test_deskripsi, test_label_memegang, batch_size=batch_size, prefetch=prefetch, shuffle=shuffle)"
      ],
      "execution_count": null,
      "outputs": []
    },
    {
      "cell_type": "code",
      "metadata": {
        "colab": {
          "base_uri": "https://localhost:8080/"
        },
        "id": "qnK0yw0zh_ug",
        "outputId": "12bf83f2-2ea8-4bed-9a81-2a77e54bf384"
      },
      "source": [
        "train_komentar_batches"
      ],
      "execution_count": null,
      "outputs": [
        {
          "output_type": "execute_result",
          "data": {
            "text/plain": [
              "<PrefetchDataset shapes: ((None,), (None,)), types: (tf.string, tf.float32)>"
            ]
          },
          "metadata": {
            "tags": []
          },
          "execution_count": 18
        }
      ]
    },
    {
      "cell_type": "code",
      "metadata": {
        "id": "wPFwVOqKc9Iu"
      },
      "source": [
        "embedding = \"https://tfhub.dev/google/nnlm-id-dim128/2\"\n",
        "hub_layer = hub.KerasLayer(embedding, input_shape=[], dtype=tf.string, trainable=True)"
      ],
      "execution_count": null,
      "outputs": []
    },
    {
      "cell_type": "markdown",
      "metadata": {
        "id": "3j7C10jsNkm6"
      },
      "source": [
        "## Create Komentar Model"
      ]
    },
    {
      "cell_type": "code",
      "metadata": {
        "colab": {
          "background_save": true,
          "base_uri": "https://localhost:8080/"
        },
        "id": "6o2g0d2bNpXz",
        "outputId": "12b94cde-a6b2-4509-8bc8-700bed41009a"
      },
      "source": [
        "modelKomentar = tf.keras.Sequential([\n",
        "        hub_layer,\n",
        "        tf.keras.layers.Dense(16, activation='relu'),\n",
        "        tf.keras.layers.Dropout(0.3),\n",
        "        tf.keras.layers.Dense(1, activation='sigmoid')])\n",
        "\n",
        "\n",
        "modelKomentar.compile(optimizer=tf.keras.optimizers.Adam(learning_rate=1e-4),\n",
        "              loss='binary_crossentropy',\n",
        "              metrics=['accuracy'])\n",
        "\n",
        "modelKomentar.summary()\n",
        "\n",
        "historyKomentar = modelKomentar.fit(train_komentar_batches,\n",
        "                        validation_data=val_komentar_batches,\n",
        "                        epochs=10)"
      ],
      "execution_count": null,
      "outputs": [
        {
          "output_type": "stream",
          "text": [
            "Model: \"sequential_28\"\n",
            "_________________________________________________________________\n",
            "Layer (type)                 Output Shape              Param #   \n",
            "=================================================================\n",
            "keras_layer_2 (KerasLayer)   (None, 128)               112461824 \n",
            "_________________________________________________________________\n",
            "dense_59 (Dense)             (None, 16)                2064      \n",
            "_________________________________________________________________\n",
            "dropout_31 (Dropout)         (None, 16)                0         \n",
            "_________________________________________________________________\n",
            "dense_60 (Dense)             (None, 1)                 17        \n",
            "=================================================================\n",
            "Total params: 112,463,905\n",
            "Trainable params: 112,463,905\n",
            "Non-trainable params: 0\n",
            "_________________________________________________________________\n",
            "Epoch 1/15\n",
            "285/285 [==============================] - 18s 61ms/step - loss: 0.5740 - accuracy: 0.7546 - val_loss: 0.5435 - val_accuracy: 0.7656\n",
            "Epoch 2/15\n",
            "285/285 [==============================] - 17s 60ms/step - loss: 0.3835 - accuracy: 0.8854 - val_loss: 0.5102 - val_accuracy: 0.7684\n",
            "Epoch 3/15\n",
            "285/285 [==============================] - 17s 60ms/step - loss: 0.3096 - accuracy: 0.8969 - val_loss: 0.5326 - val_accuracy: 0.7684\n",
            "Epoch 4/15\n",
            "285/285 [==============================] - 17s 60ms/step - loss: 0.2844 - accuracy: 0.9019 - val_loss: 0.5615 - val_accuracy: 0.7663\n",
            "Epoch 5/15\n",
            "285/285 [==============================] - 17s 60ms/step - loss: 0.2675 - accuracy: 0.9061 - val_loss: 0.5905 - val_accuracy: 0.7670\n",
            "Epoch 6/15\n",
            "285/285 [==============================] - 17s 60ms/step - loss: 0.2540 - accuracy: 0.9062 - val_loss: 0.6156 - val_accuracy: 0.7670\n",
            "Epoch 7/15\n",
            "285/285 [==============================] - 22s 76ms/step - loss: 0.2484 - accuracy: 0.9055 - val_loss: 0.6368 - val_accuracy: 0.7677\n",
            "Epoch 8/15\n",
            "285/285 [==============================] - 17s 60ms/step - loss: 0.2401 - accuracy: 0.9101 - val_loss: 0.6562 - val_accuracy: 0.7656\n",
            "Epoch 9/15\n",
            "285/285 [==============================] - 17s 60ms/step - loss: 0.2337 - accuracy: 0.9085 - val_loss: 0.6758 - val_accuracy: 0.7663\n",
            "Epoch 10/15\n",
            "285/285 [==============================] - 17s 60ms/step - loss: 0.2275 - accuracy: 0.9099 - val_loss: 0.6961 - val_accuracy: 0.7635\n",
            "Epoch 11/15\n",
            "285/285 [==============================] - 17s 61ms/step - loss: 0.2229 - accuracy: 0.9145 - val_loss: 0.7119 - val_accuracy: 0.7635\n",
            "Epoch 12/15\n",
            "285/285 [==============================] - 17s 61ms/step - loss: 0.2196 - accuracy: 0.9140 - val_loss: 0.7278 - val_accuracy: 0.7593\n",
            "Epoch 13/15\n",
            "285/285 [==============================] - 17s 60ms/step - loss: 0.2164 - accuracy: 0.9157 - val_loss: 0.7412 - val_accuracy: 0.7600\n",
            "Epoch 14/15\n",
            "285/285 [==============================] - 17s 61ms/step - loss: 0.2112 - accuracy: 0.9142 - val_loss: 0.7602 - val_accuracy: 0.7579\n",
            "Epoch 15/15\n",
            "285/285 [==============================] - 17s 61ms/step - loss: 0.2079 - accuracy: 0.9120 - val_loss: 0.7775 - val_accuracy: 0.7572\n"
          ],
          "name": "stdout"
        }
      ]
    },
    {
      "cell_type": "code",
      "metadata": {
        "colab": {
          "base_uri": "https://localhost:8080/",
          "height": 544
        },
        "id": "-v5WkOZZmSUk",
        "outputId": "f031ab5e-2663-4d96-dab8-4497cb4b3b60"
      },
      "source": [
        "import matplotlib.pyplot as plt\n",
        "\n",
        "\n",
        "def plot_graphs(history, string):\n",
        "  plt.plot(history.history[string])\n",
        "  plt.plot(history.history['val_'+string])\n",
        "  plt.xlabel(\"Epochs\")\n",
        "  plt.ylabel(string)\n",
        "  plt.legend([string, 'val_'+string])\n",
        "  plt.show()\n",
        "  \n",
        "plot_graphs(historyKomentar, \"accuracy\")\n",
        "plot_graphs(historyKomentar, \"loss\")"
      ],
      "execution_count": null,
      "outputs": [
        {
          "output_type": "display_data",
          "data": {
            "image/png": "[encoded data removed]",
            "text/plain": [
              "<Figure size 432x288 with 1 Axes>"
            ]
          },
          "metadata": {
            "tags": []
          }
        },
        {
          "output_type": "display_data",
          "data": {
            "image/png": "[encoded data removed]",
            "text/plain": [
              "<Figure size 432x288 with 1 Axes>"
            ]
          },
          "metadata": {
            "tags": []
          }
        }
      ]
    },
    {
      "cell_type": "code",
      "metadata": {
        "colab": {
          "base_uri": "https://localhost:8080/"
        },
        "id": "PIKmvXwtm4vO",
        "outputId": "7bd3f1d6-2107-421c-8132-a097c3e208fe"
      },
      "source": [
        "eval_results_komentar = modelKomentar.evaluate(test_komentar_batches, verbose=0)\n",
        "\n",
        "for metric, value in zip(modelKomentar.metrics_names, eval_results_komentar):\n",
        "    print(metric + ': {:.3}'.format(value))"
      ],
      "execution_count": null,
      "outputs": [
        {
          "output_type": "stream",
          "text": [
            "loss: 0.468\n",
            "accuracy: 0.797\n"
          ],
          "name": "stdout"
        }
      ]
    },
    {
      "cell_type": "markdown",
      "metadata": {
        "id": "oy2jUh8nt9UI"
      },
      "source": [
        "## Create Menatap Model"
      ]
    },
    {
      "cell_type": "code",
      "metadata": {
        "colab": {
          "base_uri": "https://localhost:8080/"
        },
        "id": "lt27PDVLuQfL",
        "outputId": "dbdf0bf2-d3f6-4529-c3bb-5e48d9692015"
      },
      "source": [
        "train_menatap_batches"
      ],
      "execution_count": null,
      "outputs": [
        {
          "output_type": "execute_result",
          "data": {
            "text/plain": [
              "<PrefetchDataset shapes: ((None,), (None,)), types: (tf.string, tf.float32)>"
            ]
          },
          "metadata": {
            "tags": []
          },
          "execution_count": 29
        }
      ]
    },
    {
      "cell_type": "code",
      "metadata": {
        "colab": {
          "base_uri": "https://localhost:8080/"
        },
        "id": "IKEPN1cmuWJE",
        "outputId": "bf5f6406-65d1-421d-8b77-b1ac37677dbd"
      },
      "source": [
        "modelTatap = tf.keras.Sequential([\n",
        "        hub_layer,\n",
        "        tf.keras.layers.Dense(16, activation='relu'),\n",
        "        tf.keras.layers.Dropout(0.3),\n",
        "        tf.keras.layers.Dense(1, activation='sigmoid')])\n",
        "\n",
        "\n",
        "modelTatap.compile(optimizer=tf.keras.optimizers.Adam(learning_rate=1e-4),\n",
        "              loss='binary_crossentropy',\n",
        "              metrics=['accuracy'])\n",
        "\n",
        "modelTatap.summary()\n",
        "\n",
        "historyTatap = modelTatap.fit(train_menatap_batches,\n",
        "                        validation_data=val_menatap_batches,\n",
        "                        epochs=10)"
      ],
      "execution_count": null,
      "outputs": [
        {
          "output_type": "stream",
          "text": [
            "Model: \"sequential_2\"\n",
            "_________________________________________________________________\n",
            "Layer (type)                 Output Shape              Param #   \n",
            "=================================================================\n",
            "keras_layer (KerasLayer)     (None, 128)               112461824 \n",
            "_________________________________________________________________\n",
            "dense_4 (Dense)              (None, 16)                2064      \n",
            "_________________________________________________________________\n",
            "dropout_2 (Dropout)          (None, 16)                0         \n",
            "_________________________________________________________________\n",
            "dense_5 (Dense)              (None, 1)                 17        \n",
            "=================================================================\n",
            "Total params: 112,463,905\n",
            "Trainable params: 112,463,905\n",
            "Non-trainable params: 0\n",
            "_________________________________________________________________\n",
            "Epoch 1/10\n",
            "285/285 [==============================] - 18s 62ms/step - loss: 0.6327 - accuracy: 0.7231 - val_loss: 0.5796 - val_accuracy: 0.7712\n",
            "Epoch 2/10\n",
            "285/285 [==============================] - 17s 61ms/step - loss: 0.5382 - accuracy: 0.7895 - val_loss: 0.5317 - val_accuracy: 0.7705\n",
            "Epoch 3/10\n",
            "285/285 [==============================] - 17s 61ms/step - loss: 0.5022 - accuracy: 0.7911 - val_loss: 0.5196 - val_accuracy: 0.7719\n",
            "Epoch 4/10\n",
            "285/285 [==============================] - 17s 61ms/step - loss: 0.4886 - accuracy: 0.7951 - val_loss: 0.5103 - val_accuracy: 0.7761\n",
            "Epoch 5/10\n",
            "285/285 [==============================] - 17s 61ms/step - loss: 0.4734 - accuracy: 0.7974 - val_loss: 0.5016 - val_accuracy: 0.7782\n",
            "Epoch 6/10\n",
            "285/285 [==============================] - 17s 61ms/step - loss: 0.4590 - accuracy: 0.8060 - val_loss: 0.4927 - val_accuracy: 0.7881\n",
            "Epoch 7/10\n",
            "285/285 [==============================] - 17s 61ms/step - loss: 0.4461 - accuracy: 0.8151 - val_loss: 0.4854 - val_accuracy: 0.7937\n",
            "Epoch 8/10\n",
            "285/285 [==============================] - 17s 61ms/step - loss: 0.4309 - accuracy: 0.8243 - val_loss: 0.4777 - val_accuracy: 0.7972\n",
            "Epoch 9/10\n",
            "285/285 [==============================] - 17s 61ms/step - loss: 0.4160 - accuracy: 0.8295 - val_loss: 0.4723 - val_accuracy: 0.8063\n",
            "Epoch 10/10\n",
            "285/285 [==============================] - 17s 61ms/step - loss: 0.4065 - accuracy: 0.8360 - val_loss: 0.4702 - val_accuracy: 0.8063\n"
          ],
          "name": "stdout"
        }
      ]
    },
    {
      "cell_type": "code",
      "metadata": {
        "colab": {
          "base_uri": "https://localhost:8080/"
        },
        "id": "arhXO1uMxr5h",
        "outputId": "30d4b577-376b-4154-ccc4-bc5fb10db41f"
      },
      "source": [
        "eval_results_menatap = modelTatap.evaluate(test_menatap_batches, verbose=0)\n",
        "\n",
        "for metric, value in zip(modelTatap.metrics_names, eval_results_menatap):\n",
        "    print(metric + ': {:.3}'.format(value))"
      ],
      "execution_count": null,
      "outputs": [
        {
          "output_type": "stream",
          "text": [
            "loss: 0.431\n",
            "accuracy: 0.831\n"
          ],
          "name": "stdout"
        }
      ]
    },
    {
      "cell_type": "markdown",
      "metadata": {
        "id": "TRpszgv0yhUQ"
      },
      "source": [
        "## Create Memegang Model"
      ]
    },
    {
      "cell_type": "code",
      "metadata": {
        "colab": {
          "base_uri": "https://localhost:8080/"
        },
        "id": "oyyPYSF_yu0z",
        "outputId": "03107031-a9da-415f-b7d2-842e99229f57"
      },
      "source": [
        "train_memegang_batches"
      ],
      "execution_count": null,
      "outputs": [
        {
          "output_type": "execute_result",
          "data": {
            "text/plain": [
              "<PrefetchDataset shapes: ((None,), (None,)), types: (tf.string, tf.float32)>"
            ]
          },
          "metadata": {
            "tags": []
          },
          "execution_count": 32
        }
      ]
    },
    {
      "cell_type": "code",
      "metadata": {
        "colab": {
          "base_uri": "https://localhost:8080/"
        },
        "id": "LKiRv7CAy1xP",
        "outputId": "3cfef70a-d6e2-4aeb-e2ee-57d2a8a4b55d"
      },
      "source": [
        "modelPegang = tf.keras.Sequential([\n",
        "        hub_layer,\n",
        "        tf.keras.layers.Dense(16, activation='relu'),\n",
        "        tf.keras.layers.Dropout(0.3),\n",
        "        tf.keras.layers.Dense(1, activation='sigmoid')])\n",
        "\n",
        "\n",
        "modelPegang.compile(optimizer=tf.keras.optimizers.Adam(learning_rate=1e-4),\n",
        "              loss='binary_crossentropy',\n",
        "              metrics=['accuracy'])\n",
        "\n",
        "modelPegang.summary()\n",
        "\n",
        "historyPegang = modelPegang.fit(train_memegang_batches,\n",
        "                        validation_data=val_memegang_batches,\n",
        "                        epochs=10)"
      ],
      "execution_count": null,
      "outputs": [
        {
          "output_type": "stream",
          "text": [
            "Model: \"sequential_3\"\n",
            "_________________________________________________________________\n",
            "Layer (type)                 Output Shape              Param #   \n",
            "=================================================================\n",
            "keras_layer (KerasLayer)     (None, 128)               112461824 \n",
            "_________________________________________________________________\n",
            "dense_6 (Dense)              (None, 16)                2064      \n",
            "_________________________________________________________________\n",
            "dropout_3 (Dropout)          (None, 16)                0         \n",
            "_________________________________________________________________\n",
            "dense_7 (Dense)              (None, 1)                 17        \n",
            "=================================================================\n",
            "Total params: 112,463,905\n",
            "Trainable params: 112,463,905\n",
            "Non-trainable params: 0\n",
            "_________________________________________________________________\n",
            "Epoch 1/10\n",
            "285/285 [==============================] - 18s 62ms/step - loss: 0.6327 - accuracy: 0.6773 - val_loss: 0.5904 - val_accuracy: 0.7088\n",
            "Epoch 2/10\n",
            "285/285 [==============================] - 18s 62ms/step - loss: 0.5552 - accuracy: 0.7500 - val_loss: 0.5274 - val_accuracy: 0.7733\n",
            "Epoch 3/10\n",
            "285/285 [==============================] - 17s 61ms/step - loss: 0.4936 - accuracy: 0.8057 - val_loss: 0.4711 - val_accuracy: 0.8000\n",
            "Epoch 4/10\n",
            "285/285 [==============================] - 18s 62ms/step - loss: 0.4387 - accuracy: 0.8371 - val_loss: 0.4241 - val_accuracy: 0.8295\n",
            "Epoch 5/10\n",
            "285/285 [==============================] - 18s 62ms/step - loss: 0.4002 - accuracy: 0.8525 - val_loss: 0.3938 - val_accuracy: 0.8421\n",
            "Epoch 6/10\n",
            "285/285 [==============================] - 18s 63ms/step - loss: 0.3693 - accuracy: 0.8659 - val_loss: 0.3747 - val_accuracy: 0.8456\n",
            "Epoch 7/10\n",
            "285/285 [==============================] - 18s 62ms/step - loss: 0.3443 - accuracy: 0.8792 - val_loss: 0.3628 - val_accuracy: 0.8498\n",
            "Epoch 8/10\n",
            "285/285 [==============================] - 18s 62ms/step - loss: 0.3299 - accuracy: 0.8799 - val_loss: 0.3564 - val_accuracy: 0.8547\n",
            "Epoch 9/10\n",
            "285/285 [==============================] - 18s 62ms/step - loss: 0.3136 - accuracy: 0.8869 - val_loss: 0.3509 - val_accuracy: 0.8604\n",
            "Epoch 10/10\n",
            "285/285 [==============================] - 17s 61ms/step - loss: 0.3000 - accuracy: 0.8910 - val_loss: 0.3514 - val_accuracy: 0.8589\n"
          ],
          "name": "stdout"
        }
      ]
    },
    {
      "cell_type": "code",
      "metadata": {
        "colab": {
          "base_uri": "https://localhost:8080/"
        },
        "id": "2ILW6bY6zQ8l",
        "outputId": "0129e8d2-659e-4fd6-d076-637d889a8d46"
      },
      "source": [
        "eval_results_memegang = modelPegang.evaluate(test_memegang_batches, verbose=0)\n",
        "\n",
        "for metric, value in zip(modelPegang.metrics_names, eval_results_memegang):\n",
        "    print(metric + ': {:.3}'.format(value))"
      ],
      "execution_count": null,
      "outputs": [
        {
          "output_type": "stream",
          "text": [
            "loss: 0.368\n",
            "accuracy: 0.862\n"
          ],
          "name": "stdout"
        }
      ]
    },
    {
      "cell_type": "markdown",
      "metadata": {
        "id": "wP1t0OpE0GrI"
      },
      "source": [
        "## Save Model"
      ]
    },
    {
      "cell_type": "code",
      "metadata": {
        "id": "Pmb5ufSa0RAD"
      },
      "source": [
        "modelKomentar.save('/content/model')"
      ],
      "execution_count": null,
      "outputs": []
    },
    {
      "cell_type": "code",
      "metadata": {
        "colab": {
          "base_uri": "https://localhost:8080/",
          "height": 1000
        },
        "id": "IWQT4sSs1hp5",
        "outputId": "8d5c8a94-bba4-4773-dfbf-19b0e621ebb8"
      },
      "source": [
        "converter = tf.lite.TFLiteConverter.from_saved_model('/content/model/') # path to the SavedModel directory\n",
        "tflite_model = converter.convert()\n",
        "\n",
        "# Save the model.\n",
        "with open('modelKomentar.tflite', 'wb') as f:\n",
        "  f.write(tflite_model)\n"
      ],
      "execution_count": null,
      "outputs": [
        {
          "output_type": "error",
          "ename": "ConverterError",
          "evalue": "ignored",
          "traceback": [
            "\u001b[0;31m---------------------------------------------------------------------------\u001b[0m",
            "\u001b[0;31mException\u001b[0m                                 Traceback (most recent call last)",
            "\u001b[0;32m/usr/local/lib/python3.7/dist-packages/tensorflow/lite/python/convert.py\u001b[0m in \u001b[0;36mtoco_convert_protos\u001b[0;34m(model_flags_str, toco_flags_str, input_data_str, debug_info_str, enable_mlir_converter)\u001b[0m\n\u001b[1;32m    293\u001b[0m                                                  \u001b[0mdebug_info_str\u001b[0m\u001b[0;34m,\u001b[0m\u001b[0;34m\u001b[0m\u001b[0;34m\u001b[0m\u001b[0m\n\u001b[0;32m--> 294\u001b[0;31m                                                  enable_mlir_converter)\n\u001b[0m\u001b[1;32m    295\u001b[0m       \u001b[0;32mreturn\u001b[0m \u001b[0mmodel_str\u001b[0m\u001b[0;34m\u001b[0m\u001b[0;34m\u001b[0m\u001b[0m\n",
            "\u001b[0;32m/usr/local/lib/python3.7/dist-packages/tensorflow/lite/python/wrap_toco.py\u001b[0m in \u001b[0;36mwrapped_toco_convert\u001b[0;34m(model_flags_str, toco_flags_str, input_data_str, debug_info_str, enable_mlir_converter)\u001b[0m\n\u001b[1;32m     37\u001b[0m       \u001b[0mdebug_info_str\u001b[0m\u001b[0;34m,\u001b[0m\u001b[0;34m\u001b[0m\u001b[0;34m\u001b[0m\u001b[0m\n\u001b[0;32m---> 38\u001b[0;31m       enable_mlir_converter)\n\u001b[0m\u001b[1;32m     39\u001b[0m \u001b[0;34m\u001b[0m\u001b[0m\n",
            "\u001b[0;31mException\u001b[0m: <unknown>:0: error: loc(callsite(callsite(callsite(callsite(callsite(\"tokenize/StringSplit/StringSplit@__inference__preprocess_210\" at \"StatefulPartitionedCall@__inference___call___231\") at \"StatefulPartitionedCall@__inference_restored_function_body_27211\") at \"sequential/keras_layer/StatefulPartitionedCall@__inference__wrapped_model_29950\") at \"StatefulPartitionedCall@__inference_signature_wrapper_30262\") at \"StatefulPartitionedCall_2\")): 'tf.StringSplit' op is neither a custom op nor a flex op\n<unknown>:0: note: loc(\"StatefulPartitionedCall_2\"): called from\n<unknown>:0: error: loc(callsite(callsite(callsite(callsite(callsite(\"None_Lookup_1/Add@__inference__preprocess_210\" at \"StatefulPartitionedCall@__inference___call___231\") at \"StatefulPartitionedCall@__inference_restored_function_body_27211\") at \"sequential/keras_layer/StatefulPartitionedCall@__inference__wrapped_model_29950\") at \"StatefulPartitionedCall@__inference_signature_wrapper_30262\") at \"StatefulPartitionedCall_2\")): 'tf.AddV2' op is neither a custom op nor a flex op\n<unknown>:0: note: loc(\"StatefulPartitionedCall_2\"): called from\n<unknown>:0: error: loc(callsite(callsite(callsite(callsite(callsite(\"None_Lookup/hash_bucket@__inference__preprocess_210\" at \"StatefulPartitionedCall@__inference___call___231\") at \"StatefulPartitionedCall@__inference_restored_function_body_27211\") at \"sequential/keras_layer/StatefulPartitionedCall@__inference__wrapped_model_29950\") at \"StatefulPartitionedCall@__inference_signature_wrapper_30262\") at \"StatefulPartitionedCall_2\")): 'tf.StringToHashBucketFast' op is neither a custom op nor a flex op\n<unknown>:0: note: loc(\"StatefulPartitionedCall_2\"): called from\n<unknown>:0: error: loc(callsite(callsite(callsite(callsite(callsite(\"None_Lookup/Add@__inference__preprocess_210\" at \"StatefulPartitionedCall@__inference___call___231\") at \"StatefulPartitionedCall@__inference_restored_function_body_27211\") at \"sequential/keras_layer/StatefulPartitionedCall@__inference__wrapped_model_29950\") at \"StatefulPartitionedCall@__inference_signature_wrapper_30262\") at \"StatefulPartitionedCall_2\")): 'tf.AddV2' op is neither a custom op nor a flex op\n<unknown>:0: note: loc(\"StatefulPartitionedCall_2\"): called from\n<unknown>:0: error: loc(callsite(callsite(callsite(callsite(callsite(\"SparseFillEmptyRows/SparseFillEmptyRows@__inference__preprocess_210\" at \"StatefulPartitionedCall@__inference___call___231\") at \"StatefulPartitionedCall@__inference_restored_function_body_27211\") at \"sequential/keras_layer/StatefulPartitionedCall@__inference__wrapped_model_29950\") at \"StatefulPartitionedCall@__inference_signature_wrapper_30262\") at \"StatefulPartitionedCall_2\")): 'tf.SparseFillEmptyRows' op is neither a custom op nor a flex op\n<unknown>:0: note: loc(\"StatefulPartitionedCall_2\"): called from\n<unknown>:0: error: loc(callsite(callsite(callsite(callsite(\"embedding_lookup_sparse@__inference___call___231\" at \"StatefulPartitionedCall@__inference_restored_function_body_27211\") at \"sequential/keras_layer/StatefulPartitionedCall@__inference__wrapped_model_29950\") at \"StatefulPartitionedCall@__inference_signature_wrapper_30262\") at \"StatefulPartitionedCall_2\")): 'tf.SparseSegmentSqrtN' op is neither a custom op nor a flex op\n<unknown>:0: note: loc(\"StatefulPartitionedCall_2\"): called from\n<unknown>:0: error: failed while converting: 'main': \nSome ops are not supported by the native TFLite runtime, you can enable TF kernels fallback using TF Select. See instructions: https://www.tensorflow.org/lite/guide/ops_select \nTF Select ops: AddV2, SparseFillEmptyRows, SparseSegmentSqrtN, StringSplit, StringToHashBucketFast\nDetails:\n\ttf.AddV2\n\ttf.SparseFillEmptyRows {device = \"\"}\n\ttf.SparseSegmentSqrtN {device = \"\"}\n\ttf.StringSplit {device = \"\", skip_empty = true}\n\ttf.StringToHashBucketFast {device = \"\", num_buckets = 2822 : i64}\n\n",
            "\nDuring handling of the above exception, another exception occurred:\n",
            "\u001b[0;31mConverterError\u001b[0m                            Traceback (most recent call last)",
            "\u001b[0;32m<ipython-input-46-16fce08471c9>\u001b[0m in \u001b[0;36m<module>\u001b[0;34m()\u001b[0m\n\u001b[1;32m      1\u001b[0m \u001b[0mconverter\u001b[0m \u001b[0;34m=\u001b[0m \u001b[0mtf\u001b[0m\u001b[0;34m.\u001b[0m\u001b[0mlite\u001b[0m\u001b[0;34m.\u001b[0m\u001b[0mTFLiteConverter\u001b[0m\u001b[0;34m.\u001b[0m\u001b[0mfrom_saved_model\u001b[0m\u001b[0;34m(\u001b[0m\u001b[0;34m'/content/model/'\u001b[0m\u001b[0;34m)\u001b[0m \u001b[0;31m# path to the SavedModel directory\u001b[0m\u001b[0;34m\u001b[0m\u001b[0;34m\u001b[0m\u001b[0m\n\u001b[0;32m----> 2\u001b[0;31m \u001b[0mtflite_model\u001b[0m \u001b[0;34m=\u001b[0m \u001b[0mconverter\u001b[0m\u001b[0;34m.\u001b[0m\u001b[0mconvert\u001b[0m\u001b[0;34m(\u001b[0m\u001b[0;34m)\u001b[0m\u001b[0;34m\u001b[0m\u001b[0;34m\u001b[0m\u001b[0m\n\u001b[0m\u001b[1;32m      3\u001b[0m \u001b[0;34m\u001b[0m\u001b[0m\n\u001b[1;32m      4\u001b[0m \u001b[0;31m# Save the model.\u001b[0m\u001b[0;34m\u001b[0m\u001b[0;34m\u001b[0m\u001b[0;34m\u001b[0m\u001b[0m\n\u001b[1;32m      5\u001b[0m \u001b[0;32mwith\u001b[0m \u001b[0mopen\u001b[0m\u001b[0;34m(\u001b[0m\u001b[0;34m'modelKomentar.tflite'\u001b[0m\u001b[0;34m,\u001b[0m \u001b[0;34m'wb'\u001b[0m\u001b[0;34m)\u001b[0m \u001b[0;32mas\u001b[0m \u001b[0mf\u001b[0m\u001b[0;34m:\u001b[0m\u001b[0;34m\u001b[0m\u001b[0;34m\u001b[0m\u001b[0m\n",
            "\u001b[0;32m/usr/local/lib/python3.7/dist-packages/tensorflow/lite/python/lite.py\u001b[0m in \u001b[0;36mconvert\u001b[0;34m(self)\u001b[0m\n\u001b[1;32m    911\u001b[0m     \u001b[0mconverter_kwargs\u001b[0m\u001b[0;34m.\u001b[0m\u001b[0mupdate\u001b[0m\u001b[0;34m(\u001b[0m\u001b[0mquant_mode\u001b[0m\u001b[0;34m.\u001b[0m\u001b[0mconverter_flags\u001b[0m\u001b[0;34m(\u001b[0m\u001b[0;34m)\u001b[0m\u001b[0;34m)\u001b[0m\u001b[0;34m\u001b[0m\u001b[0;34m\u001b[0m\u001b[0m\n\u001b[1;32m    912\u001b[0m \u001b[0;34m\u001b[0m\u001b[0m\n\u001b[0;32m--> 913\u001b[0;31m     \u001b[0mresult\u001b[0m \u001b[0;34m=\u001b[0m \u001b[0m_convert_saved_model\u001b[0m\u001b[0;34m(\u001b[0m\u001b[0;34m**\u001b[0m\u001b[0mconverter_kwargs\u001b[0m\u001b[0;34m)\u001b[0m\u001b[0;34m\u001b[0m\u001b[0;34m\u001b[0m\u001b[0m\n\u001b[0m\u001b[1;32m    914\u001b[0m     \u001b[0;32mif\u001b[0m \u001b[0mself\u001b[0m\u001b[0;34m.\u001b[0m\u001b[0mexperimental_new_quantizer\u001b[0m\u001b[0;34m:\u001b[0m\u001b[0;34m\u001b[0m\u001b[0;34m\u001b[0m\u001b[0m\n\u001b[1;32m    915\u001b[0m       calibrate_and_quantize, flags = quant_mode.quantizer_flags(\n",
            "\u001b[0;32m/usr/local/lib/python3.7/dist-packages/tensorflow/lite/python/convert.py\u001b[0m in \u001b[0;36mconvert_saved_model\u001b[0;34m(saved_model_dir, saved_model_version, saved_model_tags, saved_model_exported_names, **kwargs)\u001b[0m\n\u001b[1;32m    725\u001b[0m       \u001b[0;32mNone\u001b[0m\u001b[0;34m,\u001b[0m  \u001b[0;31m# input_data, unused\u001b[0m\u001b[0;34m\u001b[0m\u001b[0;34m\u001b[0m\u001b[0m\n\u001b[1;32m    726\u001b[0m       \u001b[0;32mNone\u001b[0m\u001b[0;34m,\u001b[0m  \u001b[0;31m# debug_info_str, unused\u001b[0m\u001b[0;34m\u001b[0m\u001b[0;34m\u001b[0m\u001b[0m\n\u001b[0;32m--> 727\u001b[0;31m       enable_mlir_converter=True)\n\u001b[0m\u001b[1;32m    728\u001b[0m   \u001b[0;32mreturn\u001b[0m \u001b[0mdata\u001b[0m\u001b[0;34m\u001b[0m\u001b[0;34m\u001b[0m\u001b[0m\n\u001b[1;32m    729\u001b[0m \u001b[0;34m\u001b[0m\u001b[0m\n",
            "\u001b[0;32m/usr/local/lib/python3.7/dist-packages/tensorflow/lite/python/convert.py\u001b[0m in \u001b[0;36mtoco_convert_protos\u001b[0;34m(model_flags_str, toco_flags_str, input_data_str, debug_info_str, enable_mlir_converter)\u001b[0m\n\u001b[1;32m    295\u001b[0m       \u001b[0;32mreturn\u001b[0m \u001b[0mmodel_str\u001b[0m\u001b[0;34m\u001b[0m\u001b[0;34m\u001b[0m\u001b[0m\n\u001b[1;32m    296\u001b[0m     \u001b[0;32mexcept\u001b[0m \u001b[0mException\u001b[0m \u001b[0;32mas\u001b[0m \u001b[0me\u001b[0m\u001b[0;34m:\u001b[0m\u001b[0;34m\u001b[0m\u001b[0;34m\u001b[0m\u001b[0m\n\u001b[0;32m--> 297\u001b[0;31m       \u001b[0;32mraise\u001b[0m \u001b[0mConverterError\u001b[0m\u001b[0;34m(\u001b[0m\u001b[0mstr\u001b[0m\u001b[0;34m(\u001b[0m\u001b[0me\u001b[0m\u001b[0;34m)\u001b[0m\u001b[0;34m)\u001b[0m\u001b[0;34m\u001b[0m\u001b[0;34m\u001b[0m\u001b[0m\n\u001b[0m\u001b[1;32m    298\u001b[0m \u001b[0;34m\u001b[0m\u001b[0m\n\u001b[1;32m    299\u001b[0m   \u001b[0;32mif\u001b[0m \u001b[0mdistutils\u001b[0m\u001b[0;34m.\u001b[0m\u001b[0mspawn\u001b[0m\u001b[0;34m.\u001b[0m\u001b[0mfind_executable\u001b[0m\u001b[0;34m(\u001b[0m\u001b[0m_toco_from_proto_bin\u001b[0m\u001b[0;34m)\u001b[0m \u001b[0;32mis\u001b[0m \u001b[0;32mNone\u001b[0m\u001b[0;34m:\u001b[0m\u001b[0;34m\u001b[0m\u001b[0;34m\u001b[0m\u001b[0m\n",
            "\u001b[0;31mConverterError\u001b[0m: <unknown>:0: error: loc(callsite(callsite(callsite(callsite(callsite(\"tokenize/StringSplit/StringSplit@__inference__preprocess_210\" at \"StatefulPartitionedCall@__inference___call___231\") at \"StatefulPartitionedCall@__inference_restored_function_body_27211\") at \"sequential/keras_layer/StatefulPartitionedCall@__inference__wrapped_model_29950\") at \"StatefulPartitionedCall@__inference_signature_wrapper_30262\") at \"StatefulPartitionedCall_2\")): 'tf.StringSplit' op is neither a custom op nor a flex op\n<unknown>:0: note: loc(\"StatefulPartitionedCall_2\"): called from\n<unknown>:0: error: loc(callsite(callsite(callsite(callsite(callsite(\"None_Lookup_1/Add@__inference__preprocess_210\" at \"StatefulPartitionedCall@__inference___call___231\") at \"StatefulPartitionedCall@__inference_restored_function_body_27211\") at \"sequential/keras_layer/StatefulPartitionedCall@__inference__wrapped_model_29950\") at \"StatefulPartitionedCall@__inference_signature_wrapper_30262\") at \"StatefulPartitionedCall_2\")): 'tf.AddV2' op is neither a custom op nor a flex op\n<unknown>:0: note: loc(\"StatefulPartitionedCall_2\"): called from\n<unknown>:0: error: loc(callsite(callsite(callsite(callsite(callsite(\"None_Lookup/hash_bucket@__inference__preprocess_210\" at \"StatefulPartitionedCall@__inference___call___231\") at \"StatefulPartitionedCall@__inference_restored_function_body_27211\") at \"sequential/keras_layer/StatefulPartitionedCall@__inference__wrapped_model_29950\") at \"StatefulPartitionedCall@__inference_signature_wrapper_30262\") at \"StatefulPartitionedCall_2\")): 'tf.StringToHashBucketFast' op is neither a custom op nor a flex op\n<unknown>:0: note: loc(\"StatefulPartitionedCall_2\"): called from\n<unknown>:0: error: loc(callsite(callsite(callsite(callsite(callsite(\"None_Lookup/Add@__inference__preprocess_210\" at \"StatefulPartitionedCall@__inference___call___231\") at \"StatefulPartitionedCall@__inference_restored_function_body_27211\") at \"sequential/keras_layer/StatefulPartitionedCall@__inference__wrapped_model_29950\") at \"StatefulPartitionedCall@__inference_signature_wrapper_30262\") at \"StatefulPartitionedCall_2\")): 'tf.AddV2' op is neither a custom op nor a flex op\n<unknown>:0: note: loc(\"StatefulPartitionedCall_2\"): called from\n<unknown>:0: error: loc(callsite(callsite(callsite(callsite(callsite(\"SparseFillEmptyRows/SparseFillEmptyRows@__inference__preprocess_210\" at \"StatefulPartitionedCall@__inference___call___231\") at \"StatefulPartitionedCall@__inference_restored_function_body_27211\") at \"sequential/keras_layer/StatefulPartitionedCall@__inference__wrapped_model_29950\") at \"StatefulPartitionedCall@__inference_signature_wrapper_30262\") at \"StatefulPartitionedCall_2\")): 'tf.SparseFillEmptyRows' op is neither a custom op nor a flex op\n<unknown>:0: note: loc(\"StatefulPartitionedCall_2\"): called from\n<unknown>:0: error: loc(callsite(callsite(callsite(callsite(\"embedding_lookup_sparse@__inference___call___231\" at \"StatefulPartitionedCall@__inference_restored_function_body_27211\") at \"sequential/keras_layer/StatefulPartitionedCall@__inference__wrapped_model_29950\") at \"StatefulPartitionedCall@__inference_signature_wrapper_30262\") at \"StatefulPartitionedCall_2\")): 'tf.SparseSegmentSqrtN' op is neither a custom op nor a flex op\n<unknown>:0: note: loc(\"StatefulPartitionedCall_2\"): called from\n<unknown>:0: error: failed while converting: 'main': \nSome ops are not supported by the native TFLite runtime, you can enable TF kernels fallback using TF Select. See instructions: https://www.tensorflow.org/lite/guide/ops_select \nTF Select ops: AddV2, SparseFillEmptyRows, SparseSegmentSqrtN, StringSplit, StringToHashBucketFast\nDetails:\n\ttf.AddV2\n\ttf.SparseFillEmptyRows {device = \"\"}\n\ttf.SparseSegmentSqrtN {device = \"\"}\n\ttf.StringSplit {device = \"\", skip_empty = true}\n\ttf.StringToHashBucketFast {device = \"\", num_buckets = 2822 : i64}\n\n"
          ]
        }
      ]
    }
  ]
}